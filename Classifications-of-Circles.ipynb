{
 "cells": [
  {
   "cell_type": "markdown",
   "metadata": {
    "id": "IPUOacpHU1sS"
   },
   "source": [
    "# <center> Spring 2022 CS559 Project 1: Classification of Circles: Linear Transformation Classification of Unsupervised Learning </center>\n",
    "## <center> Due: 3/4/2022 11:59 PM </center>\n",
    "\n",
    "<b>Objective</b>: In this project, students are going to train a linear classification model with the given training set and regularize the model using the given test set. \n",
    "\n",
    "When the training data is plotted, the plot will show three circles. The objective is to test where each observation in the test data set will belong to which circle using linear classifiers. Unfortunately, the label of circles are not unknown so we have to assign the circle ID using the clustering techniques. We will use KMeans and the found cluster ID will be the circle ID. Once the circles are all clustered properly, we can make models that classifies the circle and regularize the model using the test data set. \n",
    "\n",
    "<b>Note</b>: \n",
    "1. This project is an individual project and students are not allowed to work together. For any evidences, the project will mark 0 and will report to the University. Students are not allowed to use outside resources directly (no direct copies of work, code, etc.). \n",
    "2. Students are allowed to use any built-in functions or make functions.\n",
    "3. Students are allowed to make any visualizations. \n",
    "\n",
    "<b>Data</b>: Two datasets are given and they are training and test sets. \n",
    "1. They are completed - no missing values. \n",
    "2. No labels. \n",
    "3. Non-linear. "
   ]
  },
  {
   "cell_type": "code",
   "execution_count": 1,
   "metadata": {
    "id": "sOTxJ55YDIZJ"
   },
   "outputs": [],
   "source": [
    "import pandas as pd\n",
    "import warnings\n",
    "warnings.filterwarnings(\"ignore\")"
   ]
  },
  {
   "cell_type": "code",
   "execution_count": 2,
   "metadata": {
    "id": "zyQWny0KDV4O"
   },
   "outputs": [],
   "source": [
    "df_train = pd.read_csv('./CS559_S22_train.csv')\n",
    "df_test = pd.read_csv('./CS559_S22_test.csv')"
   ]
  },
  {
   "cell_type": "code",
   "execution_count": 3,
   "metadata": {
    "colab": {
     "base_uri": "https://localhost:8080/",
     "height": 676
    },
    "id": "iPWjGD9NDZsr",
    "outputId": "264b8f5c-9f24-49cc-caab-11de79a284fb"
   },
   "outputs": [
    {
     "data": {
      "text/html": [
       "<div>\n",
       "<style scoped>\n",
       "    .dataframe tbody tr th:only-of-type {\n",
       "        vertical-align: middle;\n",
       "    }\n",
       "\n",
       "    .dataframe tbody tr th {\n",
       "        vertical-align: top;\n",
       "    }\n",
       "\n",
       "    .dataframe thead th {\n",
       "        text-align: right;\n",
       "    }\n",
       "</style>\n",
       "<table border=\"1\" class=\"dataframe\">\n",
       "  <thead>\n",
       "    <tr style=\"text-align: right;\">\n",
       "      <th></th>\n",
       "      <th>Unnamed: 0</th>\n",
       "      <th>0</th>\n",
       "      <th>1</th>\n",
       "    </tr>\n",
       "  </thead>\n",
       "  <tbody>\n",
       "    <tr>\n",
       "      <th>0</th>\n",
       "      <td>0</td>\n",
       "      <td>1.990883</td>\n",
       "      <td>-0.403233</td>\n",
       "    </tr>\n",
       "    <tr>\n",
       "      <th>1</th>\n",
       "      <td>1</td>\n",
       "      <td>-3.853454</td>\n",
       "      <td>-1.252172</td>\n",
       "    </tr>\n",
       "    <tr>\n",
       "      <th>2</th>\n",
       "      <td>2</td>\n",
       "      <td>3.887177</td>\n",
       "      <td>2.267125</td>\n",
       "    </tr>\n",
       "    <tr>\n",
       "      <th>3</th>\n",
       "      <td>3</td>\n",
       "      <td>-3.475760</td>\n",
       "      <td>1.592513</td>\n",
       "    </tr>\n",
       "    <tr>\n",
       "      <th>4</th>\n",
       "      <td>4</td>\n",
       "      <td>0.663024</td>\n",
       "      <td>-1.520762</td>\n",
       "    </tr>\n",
       "    <tr>\n",
       "      <th>5</th>\n",
       "      <td>5</td>\n",
       "      <td>1.778471</td>\n",
       "      <td>-0.767431</td>\n",
       "    </tr>\n",
       "    <tr>\n",
       "      <th>6</th>\n",
       "      <td>6</td>\n",
       "      <td>-1.807315</td>\n",
       "      <td>-3.496680</td>\n",
       "    </tr>\n",
       "    <tr>\n",
       "      <th>7</th>\n",
       "      <td>7</td>\n",
       "      <td>1.958486</td>\n",
       "      <td>2.241154</td>\n",
       "    </tr>\n",
       "    <tr>\n",
       "      <th>8</th>\n",
       "      <td>8</td>\n",
       "      <td>-1.680833</td>\n",
       "      <td>4.174302</td>\n",
       "    </tr>\n",
       "    <tr>\n",
       "      <th>9</th>\n",
       "      <td>9</td>\n",
       "      <td>-3.653391</td>\n",
       "      <td>-1.768593</td>\n",
       "    </tr>\n",
       "    <tr>\n",
       "      <th>10</th>\n",
       "      <td>10</td>\n",
       "      <td>-1.586963</td>\n",
       "      <td>1.378323</td>\n",
       "    </tr>\n",
       "    <tr>\n",
       "      <th>11</th>\n",
       "      <td>11</td>\n",
       "      <td>0.885188</td>\n",
       "      <td>-4.412079</td>\n",
       "    </tr>\n",
       "    <tr>\n",
       "      <th>12</th>\n",
       "      <td>12</td>\n",
       "      <td>-1.001344</td>\n",
       "      <td>-4.387176</td>\n",
       "    </tr>\n",
       "    <tr>\n",
       "      <th>13</th>\n",
       "      <td>13</td>\n",
       "      <td>1.790436</td>\n",
       "      <td>-4.128479</td>\n",
       "    </tr>\n",
       "    <tr>\n",
       "      <th>14</th>\n",
       "      <td>14</td>\n",
       "      <td>-2.609221</td>\n",
       "      <td>-3.043060</td>\n",
       "    </tr>\n",
       "    <tr>\n",
       "      <th>15</th>\n",
       "      <td>15</td>\n",
       "      <td>-1.777145</td>\n",
       "      <td>-0.054074</td>\n",
       "    </tr>\n",
       "    <tr>\n",
       "      <th>16</th>\n",
       "      <td>16</td>\n",
       "      <td>-0.580370</td>\n",
       "      <td>2.271912</td>\n",
       "    </tr>\n",
       "    <tr>\n",
       "      <th>17</th>\n",
       "      <td>17</td>\n",
       "      <td>0.892561</td>\n",
       "      <td>2.961039</td>\n",
       "    </tr>\n",
       "    <tr>\n",
       "      <th>18</th>\n",
       "      <td>18</td>\n",
       "      <td>-1.200116</td>\n",
       "      <td>-1.043437</td>\n",
       "    </tr>\n",
       "    <tr>\n",
       "      <th>19</th>\n",
       "      <td>19</td>\n",
       "      <td>1.241884</td>\n",
       "      <td>-1.269722</td>\n",
       "    </tr>\n",
       "  </tbody>\n",
       "</table>\n",
       "</div>"
      ],
      "text/plain": [
       "    Unnamed: 0         0         1\n",
       "0            0  1.990883 -0.403233\n",
       "1            1 -3.853454 -1.252172\n",
       "2            2  3.887177  2.267125\n",
       "3            3 -3.475760  1.592513\n",
       "4            4  0.663024 -1.520762\n",
       "5            5  1.778471 -0.767431\n",
       "6            6 -1.807315 -3.496680\n",
       "7            7  1.958486  2.241154\n",
       "8            8 -1.680833  4.174302\n",
       "9            9 -3.653391 -1.768593\n",
       "10          10 -1.586963  1.378323\n",
       "11          11  0.885188 -4.412079\n",
       "12          12 -1.001344 -4.387176\n",
       "13          13  1.790436 -4.128479\n",
       "14          14 -2.609221 -3.043060\n",
       "15          15 -1.777145 -0.054074\n",
       "16          16 -0.580370  2.271912\n",
       "17          17  0.892561  2.961039\n",
       "18          18 -1.200116 -1.043437\n",
       "19          19  1.241884 -1.269722"
      ]
     },
     "execution_count": 3,
     "metadata": {},
     "output_type": "execute_result"
    }
   ],
   "source": [
    "df_train.head(20)"
   ]
  },
  {
   "cell_type": "code",
   "execution_count": 4,
   "metadata": {
    "colab": {
     "base_uri": "https://localhost:8080/",
     "height": 1000
    },
    "id": "A6N2joTiDjgp",
    "outputId": "fd27fceb-7edb-486b-f7cb-6333c386546c"
   },
   "outputs": [
    {
     "data": {
      "text/html": [
       "<div>\n",
       "<style scoped>\n",
       "    .dataframe tbody tr th:only-of-type {\n",
       "        vertical-align: middle;\n",
       "    }\n",
       "\n",
       "    .dataframe tbody tr th {\n",
       "        vertical-align: top;\n",
       "    }\n",
       "\n",
       "    .dataframe thead th {\n",
       "        text-align: right;\n",
       "    }\n",
       "</style>\n",
       "<table border=\"1\" class=\"dataframe\">\n",
       "  <thead>\n",
       "    <tr style=\"text-align: right;\">\n",
       "      <th></th>\n",
       "      <th>Unnamed: 0</th>\n",
       "      <th>0</th>\n",
       "      <th>1</th>\n",
       "    </tr>\n",
       "  </thead>\n",
       "  <tbody>\n",
       "    <tr>\n",
       "      <th>0</th>\n",
       "      <td>0</td>\n",
       "      <td>-1.749593</td>\n",
       "      <td>-0.156003</td>\n",
       "    </tr>\n",
       "    <tr>\n",
       "      <th>1</th>\n",
       "      <td>1</td>\n",
       "      <td>0.368625</td>\n",
       "      <td>3.140500</td>\n",
       "    </tr>\n",
       "    <tr>\n",
       "      <th>2</th>\n",
       "      <td>2</td>\n",
       "      <td>-1.799280</td>\n",
       "      <td>0.049168</td>\n",
       "    </tr>\n",
       "    <tr>\n",
       "      <th>3</th>\n",
       "      <td>3</td>\n",
       "      <td>-0.177061</td>\n",
       "      <td>-3.735070</td>\n",
       "    </tr>\n",
       "    <tr>\n",
       "      <th>4</th>\n",
       "      <td>4</td>\n",
       "      <td>3.160910</td>\n",
       "      <td>3.202912</td>\n",
       "    </tr>\n",
       "    <tr>\n",
       "      <th>5</th>\n",
       "      <td>5</td>\n",
       "      <td>-3.264976</td>\n",
       "      <td>1.895905</td>\n",
       "    </tr>\n",
       "    <tr>\n",
       "      <th>6</th>\n",
       "      <td>6</td>\n",
       "      <td>-0.914822</td>\n",
       "      <td>-3.725331</td>\n",
       "    </tr>\n",
       "    <tr>\n",
       "      <th>7</th>\n",
       "      <td>7</td>\n",
       "      <td>2.097375</td>\n",
       "      <td>0.938554</td>\n",
       "    </tr>\n",
       "    <tr>\n",
       "      <th>8</th>\n",
       "      <td>8</td>\n",
       "      <td>0.006415</td>\n",
       "      <td>3.213170</td>\n",
       "    </tr>\n",
       "    <tr>\n",
       "      <th>9</th>\n",
       "      <td>9</td>\n",
       "      <td>-1.898791</td>\n",
       "      <td>4.079779</td>\n",
       "    </tr>\n",
       "    <tr>\n",
       "      <th>10</th>\n",
       "      <td>10</td>\n",
       "      <td>0.188479</td>\n",
       "      <td>3.181617</td>\n",
       "    </tr>\n",
       "    <tr>\n",
       "      <th>11</th>\n",
       "      <td>11</td>\n",
       "      <td>-0.768414</td>\n",
       "      <td>4.433908</td>\n",
       "    </tr>\n",
       "    <tr>\n",
       "      <th>12</th>\n",
       "      <td>12</td>\n",
       "      <td>-0.914822</td>\n",
       "      <td>3.225331</td>\n",
       "    </tr>\n",
       "    <tr>\n",
       "      <th>13</th>\n",
       "      <td>13</td>\n",
       "      <td>-0.863661</td>\n",
       "      <td>-1.297517</td>\n",
       "    </tr>\n",
       "    <tr>\n",
       "      <th>14</th>\n",
       "      <td>14</td>\n",
       "      <td>-3.653391</td>\n",
       "      <td>1.268593</td>\n",
       "    </tr>\n",
       "    <tr>\n",
       "      <th>15</th>\n",
       "      <td>15</td>\n",
       "      <td>-2.897597</td>\n",
       "      <td>3.442954</td>\n",
       "    </tr>\n",
       "    <tr>\n",
       "      <th>16</th>\n",
       "      <td>16</td>\n",
       "      <td>0.456047</td>\n",
       "      <td>-1.562287</td>\n",
       "    </tr>\n",
       "    <tr>\n",
       "      <th>17</th>\n",
       "      <td>17</td>\n",
       "      <td>1.713734</td>\n",
       "      <td>1.684177</td>\n",
       "    </tr>\n",
       "    <tr>\n",
       "      <th>18</th>\n",
       "      <td>18</td>\n",
       "      <td>-1.278823</td>\n",
       "      <td>-3.662248</td>\n",
       "    </tr>\n",
       "    <tr>\n",
       "      <th>19</th>\n",
       "      <td>19</td>\n",
       "      <td>2.419240</td>\n",
       "      <td>3.794375</td>\n",
       "    </tr>\n",
       "    <tr>\n",
       "      <th>20</th>\n",
       "      <td>20</td>\n",
       "      <td>1.058143</td>\n",
       "      <td>-1.373660</td>\n",
       "    </tr>\n",
       "    <tr>\n",
       "      <th>21</th>\n",
       "      <td>21</td>\n",
       "      <td>0.140267</td>\n",
       "      <td>2.416492</td>\n",
       "    </tr>\n",
       "    <tr>\n",
       "      <th>22</th>\n",
       "      <td>22</td>\n",
       "      <td>1.329386</td>\n",
       "      <td>2.043960</td>\n",
       "    </tr>\n",
       "    <tr>\n",
       "      <th>23</th>\n",
       "      <td>23</td>\n",
       "      <td>4.001408</td>\n",
       "      <td>2.058819</td>\n",
       "    </tr>\n",
       "    <tr>\n",
       "      <th>24</th>\n",
       "      <td>24</td>\n",
       "      <td>-0.677240</td>\n",
       "      <td>2.229902</td>\n",
       "    </tr>\n",
       "    <tr>\n",
       "      <th>25</th>\n",
       "      <td>25</td>\n",
       "      <td>-1.475833</td>\n",
       "      <td>-0.724471</td>\n",
       "    </tr>\n",
       "    <tr>\n",
       "      <th>26</th>\n",
       "      <td>26</td>\n",
       "      <td>-0.533342</td>\n",
       "      <td>4.468282</td>\n",
       "    </tr>\n",
       "    <tr>\n",
       "      <th>27</th>\n",
       "      <td>27</td>\n",
       "      <td>3.480901</td>\n",
       "      <td>-2.851899</td>\n",
       "    </tr>\n",
       "    <tr>\n",
       "      <th>28</th>\n",
       "      <td>28</td>\n",
       "      <td>2.005823</td>\n",
       "      <td>4.028235</td>\n",
       "    </tr>\n",
       "    <tr>\n",
       "      <th>29</th>\n",
       "      <td>29</td>\n",
       "      <td>4.276068</td>\n",
       "      <td>1.401870</td>\n",
       "    </tr>\n",
       "    <tr>\n",
       "      <th>30</th>\n",
       "      <td>30</td>\n",
       "      <td>-4.373576</td>\n",
       "      <td>-1.059166</td>\n",
       "    </tr>\n",
       "    <tr>\n",
       "      <th>31</th>\n",
       "      <td>31</td>\n",
       "      <td>-4.054360</td>\n",
       "      <td>-1.952477</td>\n",
       "    </tr>\n",
       "    <tr>\n",
       "      <th>32</th>\n",
       "      <td>32</td>\n",
       "      <td>2.878739</td>\n",
       "      <td>0.663302</td>\n",
       "    </tr>\n",
       "    <tr>\n",
       "      <th>33</th>\n",
       "      <td>33</td>\n",
       "      <td>4.104486</td>\n",
       "      <td>-1.844774</td>\n",
       "    </tr>\n",
       "    <tr>\n",
       "      <th>34</th>\n",
       "      <td>34</td>\n",
       "      <td>2.031611</td>\n",
       "      <td>1.139150</td>\n",
       "    </tr>\n",
       "    <tr>\n",
       "      <th>35</th>\n",
       "      <td>35</td>\n",
       "      <td>2.031611</td>\n",
       "      <td>-0.305817</td>\n",
       "    </tr>\n",
       "  </tbody>\n",
       "</table>\n",
       "</div>"
      ],
      "text/plain": [
       "    Unnamed: 0         0         1\n",
       "0            0 -1.749593 -0.156003\n",
       "1            1  0.368625  3.140500\n",
       "2            2 -1.799280  0.049168\n",
       "3            3 -0.177061 -3.735070\n",
       "4            4  3.160910  3.202912\n",
       "5            5 -3.264976  1.895905\n",
       "6            6 -0.914822 -3.725331\n",
       "7            7  2.097375  0.938554\n",
       "8            8  0.006415  3.213170\n",
       "9            9 -1.898791  4.079779\n",
       "10          10  0.188479  3.181617\n",
       "11          11 -0.768414  4.433908\n",
       "12          12 -0.914822  3.225331\n",
       "13          13 -0.863661 -1.297517\n",
       "14          14 -3.653391  1.268593\n",
       "15          15 -2.897597  3.442954\n",
       "16          16  0.456047 -1.562287\n",
       "17          17  1.713734  1.684177\n",
       "18          18 -1.278823 -3.662248\n",
       "19          19  2.419240  3.794375\n",
       "20          20  1.058143 -1.373660\n",
       "21          21  0.140267  2.416492\n",
       "22          22  1.329386  2.043960\n",
       "23          23  4.001408  2.058819\n",
       "24          24 -0.677240  2.229902\n",
       "25          25 -1.475833 -0.724471\n",
       "26          26 -0.533342  4.468282\n",
       "27          27  3.480901 -2.851899\n",
       "28          28  2.005823  4.028235\n",
       "29          29  4.276068  1.401870\n",
       "30          30 -4.373576 -1.059166\n",
       "31          31 -4.054360 -1.952477\n",
       "32          32  2.878739  0.663302\n",
       "33          33  4.104486 -1.844774\n",
       "34          34  2.031611  1.139150\n",
       "35          35  2.031611 -0.305817"
      ]
     },
     "execution_count": 4,
     "metadata": {},
     "output_type": "execute_result"
    }
   ],
   "source": [
    "df_test"
   ]
  },
  {
   "cell_type": "code",
   "execution_count": 5,
   "metadata": {
    "id": "kaDSM7lwDwln"
   },
   "outputs": [],
   "source": [
    "import matplotlib.pyplot as plt"
   ]
  },
  {
   "cell_type": "code",
   "execution_count": 6,
   "metadata": {
    "colab": {
     "base_uri": "https://localhost:8080/",
     "height": 499
    },
    "id": "P-CyJWFRDxNs",
    "outputId": "2f221746-e39f-4ac4-d83d-0d14e2d3cc5a"
   },
   "outputs": [
    {
     "data": {
      "image/png": "[encoded data removed]",
      "text/plain": [
       "<Figure size 1152x576 with 2 Axes>"
      ]
     },
     "metadata": {
      "needs_background": "light"
     },
     "output_type": "display_data"
    }
   ],
   "source": [
    "fig, (ax1, ax2) = plt.subplots(1,2, figsize=(16,8))\n",
    "ax1.scatter(df_train.iloc[:,1],df_train.iloc[:,2])\n",
    "ax1.set_title('Train')\n",
    "ax2.scatter(df_test.iloc[:,1],df_test.iloc[:,2])\n",
    "ax2.set_title('Test')\n",
    "plt.show()"
   ]
  },
  {
   "cell_type": "markdown",
   "metadata": {
    "id": "JFudffoyVJvY"
   },
   "source": [
    "# Task1: Clustering - Checking [10 pts]\n",
    "Run KMeans and verify the clustering result. Did cluster IDs assign to each circle correctly? \n",
    "\n",
    "Build a linear classification model using `sklearn` to classify the the cluster IDs using Logistic Regression and KNN. When you use KNN, use different neighbor numbers [1, 10, 50, 100].\n",
    "\n",
    "Report the accuracy of each model using `accuracy_score`. \n",
    "\n",
    "Explain why KMeans did not cluster by the circle and evaluate the model."
   ]
  },
  {
   "cell_type": "code",
   "execution_count": 7,
   "metadata": {
    "id": "RNRzBx1cDy5c"
   },
   "outputs": [],
   "source": [
    "import matplotlib.pyplot as plt\n",
    "from sklearn.datasets import make_blobs\n",
    "from sklearn.cluster import KMeans\n",
    "from sklearn.metrics import silhouette_score\n",
    "from sklearn.preprocessing import StandardScaler"
   ]
  },
  {
   "cell_type": "code",
   "execution_count": 8,
   "metadata": {
    "colab": {
     "base_uri": "https://localhost:8080/",
     "height": 423
    },
    "id": "KWUbRZVhDzAI",
    "outputId": "fdf40182-a827-4198-b73b-11d5ed3a578f"
   },
   "outputs": [
    {
     "data": {
      "text/html": [
       "<div>\n",
       "<style scoped>\n",
       "    .dataframe tbody tr th:only-of-type {\n",
       "        vertical-align: middle;\n",
       "    }\n",
       "\n",
       "    .dataframe tbody tr th {\n",
       "        vertical-align: top;\n",
       "    }\n",
       "\n",
       "    .dataframe thead th {\n",
       "        text-align: right;\n",
       "    }\n",
       "</style>\n",
       "<table border=\"1\" class=\"dataframe\">\n",
       "  <thead>\n",
       "    <tr style=\"text-align: right;\">\n",
       "      <th></th>\n",
       "      <th>0</th>\n",
       "      <th>1</th>\n",
       "    </tr>\n",
       "  </thead>\n",
       "  <tbody>\n",
       "    <tr>\n",
       "      <th>0</th>\n",
       "      <td>1.990883</td>\n",
       "      <td>-0.403233</td>\n",
       "    </tr>\n",
       "    <tr>\n",
       "      <th>1</th>\n",
       "      <td>-3.853454</td>\n",
       "      <td>-1.252172</td>\n",
       "    </tr>\n",
       "    <tr>\n",
       "      <th>2</th>\n",
       "      <td>3.887177</td>\n",
       "      <td>2.267125</td>\n",
       "    </tr>\n",
       "    <tr>\n",
       "      <th>3</th>\n",
       "      <td>-3.475760</td>\n",
       "      <td>1.592513</td>\n",
       "    </tr>\n",
       "    <tr>\n",
       "      <th>4</th>\n",
       "      <td>0.663024</td>\n",
       "      <td>-1.520762</td>\n",
       "    </tr>\n",
       "    <tr>\n",
       "      <th>...</th>\n",
       "      <td>...</td>\n",
       "      <td>...</td>\n",
       "    </tr>\n",
       "    <tr>\n",
       "      <th>319</th>\n",
       "      <td>-3.969552</td>\n",
       "      <td>0.210658</td>\n",
       "    </tr>\n",
       "    <tr>\n",
       "      <th>320</th>\n",
       "      <td>-1.231483</td>\n",
       "      <td>4.328215</td>\n",
       "    </tr>\n",
       "    <tr>\n",
       "      <th>321</th>\n",
       "      <td>-0.380659</td>\n",
       "      <td>2.340318</td>\n",
       "    </tr>\n",
       "    <tr>\n",
       "      <th>322</th>\n",
       "      <td>2.005823</td>\n",
       "      <td>-4.028235</td>\n",
       "    </tr>\n",
       "    <tr>\n",
       "      <th>323</th>\n",
       "      <td>0.546349</td>\n",
       "      <td>-3.589933</td>\n",
       "    </tr>\n",
       "  </tbody>\n",
       "</table>\n",
       "<p>324 rows × 2 columns</p>\n",
       "</div>"
      ],
      "text/plain": [
       "            0         1\n",
       "0    1.990883 -0.403233\n",
       "1   -3.853454 -1.252172\n",
       "2    3.887177  2.267125\n",
       "3   -3.475760  1.592513\n",
       "4    0.663024 -1.520762\n",
       "..        ...       ...\n",
       "319 -3.969552  0.210658\n",
       "320 -1.231483  4.328215\n",
       "321 -0.380659  2.340318\n",
       "322  2.005823 -4.028235\n",
       "323  0.546349 -3.589933\n",
       "\n",
       "[324 rows x 2 columns]"
      ]
     },
     "execution_count": 8,
     "metadata": {},
     "output_type": "execute_result"
    }
   ],
   "source": [
    "x = df_train.iloc[:,1:3] # 1t for rows and second for columns\n",
    "x"
   ]
  },
  {
   "cell_type": "code",
   "execution_count": 9,
   "metadata": {
    "colab": {
     "base_uri": "https://localhost:8080/"
    },
    "id": "llqN0a2aDzFS",
    "outputId": "0299b855-a26a-4ecb-ea3a-93190a08890f"
   },
   "outputs": [
    {
     "data": {
      "text/plain": [
       "KMeans(n_clusters=3)"
      ]
     },
     "execution_count": 9,
     "metadata": {},
     "output_type": "execute_result"
    }
   ],
   "source": [
    "kmeans = KMeans(3)\n",
    "kmeans.fit(x)"
   ]
  },
  {
   "cell_type": "code",
   "execution_count": 10,
   "metadata": {
    "colab": {
     "base_uri": "https://localhost:8080/"
    },
    "id": "z5XIAWXfDzKA",
    "outputId": "27a67793-003d-402c-83b1-200d8595a3be"
   },
   "outputs": [
    {
     "data": {
      "text/plain": [
       "array([1, 2, 1, 2, 0, 1, 0, 1, 2, 2, 2, 0, 0, 0, 0, 2, 2, 1, 0, 0, 2, 1,\n",
       "       1, 0, 1, 2, 2, 0, 1, 1, 2, 1, 2, 2, 1, 2, 0, 0, 0, 0, 1, 0, 0, 2,\n",
       "       1, 2, 2, 2, 0, 0, 2, 2, 1, 1, 0, 2, 0, 1, 1, 2, 0, 2, 2, 0, 1, 1,\n",
       "       2, 1, 1, 0, 1, 2, 2, 0, 1, 1, 0, 1, 2, 1, 1, 0, 0, 0, 0, 0, 1, 1,\n",
       "       2, 0, 0, 1, 0, 2, 1, 1, 0, 0, 0, 1, 0, 1, 1, 2, 0, 1, 1, 0, 1, 2,\n",
       "       1, 0, 2, 2, 0, 0, 2, 1, 2, 0, 1, 1, 2, 1, 1, 2, 1, 2, 1, 0, 2, 2,\n",
       "       2, 0, 0, 1, 0, 1, 1, 0, 2, 0, 1, 1, 1, 1, 2, 2, 0, 2, 1, 0, 2, 0,\n",
       "       1, 1, 0, 2, 0, 2, 1, 2, 1, 0, 2, 1, 2, 1, 1, 2, 0, 0, 1, 1, 2, 0,\n",
       "       2, 2, 0, 1, 0, 0, 1, 2, 2, 1, 0, 1, 0, 0, 1, 0, 1, 1, 0, 0, 2, 0,\n",
       "       1, 0, 2, 1, 0, 2, 2, 2, 2, 2, 1, 1, 0, 2, 1, 0, 0, 2, 0, 2, 2, 2,\n",
       "       0, 1, 1, 2, 1, 2, 0, 0, 2, 1, 2, 0, 1, 2, 2, 1, 1, 0, 0, 0, 0, 2,\n",
       "       0, 2, 2, 0, 1, 1, 0, 2, 2, 2, 1, 1, 0, 0, 1, 1, 0, 2, 0, 2, 1, 1,\n",
       "       1, 2, 1, 2, 1, 2, 1, 2, 0, 1, 1, 0, 2, 1, 1, 1, 0, 2, 2, 2, 2, 0,\n",
       "       2, 0, 2, 2, 0, 1, 0, 0, 1, 1, 0, 2, 1, 2, 1, 1, 2, 2, 2, 0, 1, 0,\n",
       "       1, 2, 2, 2, 0, 1, 1, 2, 0, 1, 0, 2, 2, 2, 0, 0], dtype=int32)"
      ]
     },
     "execution_count": 10,
     "metadata": {},
     "output_type": "execute_result"
    }
   ],
   "source": [
    "identified_clusters = kmeans.fit_predict(x)\n",
    "identified_clusters"
   ]
  },
  {
   "cell_type": "code",
   "execution_count": 11,
   "metadata": {
    "colab": {
     "base_uri": "https://localhost:8080/",
     "height": 283
    },
    "id": "1Z1xUVuMDzNn",
    "outputId": "211948fc-5818-4f49-da01-e19e65d84d0b"
   },
   "outputs": [
    {
     "data": {
      "text/plain": [
       "<matplotlib.collections.PathCollection at 0x7f97739cca30>"
      ]
     },
     "execution_count": 11,
     "metadata": {},
     "output_type": "execute_result"
    },
    {
     "data": {
      "image/png": "[encoded data removed]",
      "text/plain": [
       "<Figure size 432x288 with 1 Axes>"
      ]
     },
     "metadata": {
      "needs_background": "light"
     },
     "output_type": "display_data"
    }
   ],
   "source": [
    "data_with_clusters = x.copy()\n",
    "data_with_clusters['Clusters'] = identified_clusters \n",
    "plt.scatter(data_with_clusters['0'],data_with_clusters['1'],c=data_with_clusters['Clusters'])"
   ]
  },
  {
   "cell_type": "code",
   "execution_count": 12,
   "metadata": {
    "colab": {
     "base_uri": "https://localhost:8080/",
     "height": 423
    },
    "id": "zKO3Ca77DzRe",
    "outputId": "25f062f6-ce86-4741-a837-a2ab48d7cd58"
   },
   "outputs": [
    {
     "data": {
      "text/html": [
       "<div>\n",
       "<style scoped>\n",
       "    .dataframe tbody tr th:only-of-type {\n",
       "        vertical-align: middle;\n",
       "    }\n",
       "\n",
       "    .dataframe tbody tr th {\n",
       "        vertical-align: top;\n",
       "    }\n",
       "\n",
       "    .dataframe thead th {\n",
       "        text-align: right;\n",
       "    }\n",
       "</style>\n",
       "<table border=\"1\" class=\"dataframe\">\n",
       "  <thead>\n",
       "    <tr style=\"text-align: right;\">\n",
       "      <th></th>\n",
       "      <th>0</th>\n",
       "      <th>1</th>\n",
       "      <th>identified_clusters</th>\n",
       "    </tr>\n",
       "  </thead>\n",
       "  <tbody>\n",
       "    <tr>\n",
       "      <th>0</th>\n",
       "      <td>1.990883</td>\n",
       "      <td>-0.403233</td>\n",
       "      <td>1</td>\n",
       "    </tr>\n",
       "    <tr>\n",
       "      <th>1</th>\n",
       "      <td>-3.853454</td>\n",
       "      <td>-1.252172</td>\n",
       "      <td>2</td>\n",
       "    </tr>\n",
       "    <tr>\n",
       "      <th>2</th>\n",
       "      <td>3.887177</td>\n",
       "      <td>2.267125</td>\n",
       "      <td>1</td>\n",
       "    </tr>\n",
       "    <tr>\n",
       "      <th>3</th>\n",
       "      <td>-3.475760</td>\n",
       "      <td>1.592513</td>\n",
       "      <td>2</td>\n",
       "    </tr>\n",
       "    <tr>\n",
       "      <th>4</th>\n",
       "      <td>0.663024</td>\n",
       "      <td>-1.520762</td>\n",
       "      <td>0</td>\n",
       "    </tr>\n",
       "    <tr>\n",
       "      <th>...</th>\n",
       "      <td>...</td>\n",
       "      <td>...</td>\n",
       "      <td>...</td>\n",
       "    </tr>\n",
       "    <tr>\n",
       "      <th>319</th>\n",
       "      <td>-3.969552</td>\n",
       "      <td>0.210658</td>\n",
       "      <td>2</td>\n",
       "    </tr>\n",
       "    <tr>\n",
       "      <th>320</th>\n",
       "      <td>-1.231483</td>\n",
       "      <td>4.328215</td>\n",
       "      <td>2</td>\n",
       "    </tr>\n",
       "    <tr>\n",
       "      <th>321</th>\n",
       "      <td>-0.380659</td>\n",
       "      <td>2.340318</td>\n",
       "      <td>2</td>\n",
       "    </tr>\n",
       "    <tr>\n",
       "      <th>322</th>\n",
       "      <td>2.005823</td>\n",
       "      <td>-4.028235</td>\n",
       "      <td>0</td>\n",
       "    </tr>\n",
       "    <tr>\n",
       "      <th>323</th>\n",
       "      <td>0.546349</td>\n",
       "      <td>-3.589933</td>\n",
       "      <td>0</td>\n",
       "    </tr>\n",
       "  </tbody>\n",
       "</table>\n",
       "<p>324 rows × 3 columns</p>\n",
       "</div>"
      ],
      "text/plain": [
       "            0         1  identified_clusters\n",
       "0    1.990883 -0.403233                    1\n",
       "1   -3.853454 -1.252172                    2\n",
       "2    3.887177  2.267125                    1\n",
       "3   -3.475760  1.592513                    2\n",
       "4    0.663024 -1.520762                    0\n",
       "..        ...       ...                  ...\n",
       "319 -3.969552  0.210658                    2\n",
       "320 -1.231483  4.328215                    2\n",
       "321 -0.380659  2.340318                    2\n",
       "322  2.005823 -4.028235                    0\n",
       "323  0.546349 -3.589933                    0\n",
       "\n",
       "[324 rows x 3 columns]"
      ]
     },
     "execution_count": 12,
     "metadata": {},
     "output_type": "execute_result"
    }
   ],
   "source": [
    "x['identified_clusters'] = identified_clusters\n",
    "x"
   ]
  },
  {
   "cell_type": "code",
   "execution_count": 13,
   "metadata": {
    "colab": {
     "base_uri": "https://localhost:8080/"
    },
    "id": "9I97G9iWDzU6",
    "outputId": "5e1c8ca4-f1f2-4324-9906-9b87d3477e73"
   },
   "outputs": [
    {
     "name": "stdout",
     "output_type": "stream",
     "text": [
      "            0         1\n",
      "0    1.990883 -0.403233\n",
      "1   -3.853454 -1.252172\n",
      "2    3.887177  2.267125\n",
      "3   -3.475760  1.592513\n",
      "4    0.663024 -1.520762\n",
      "..        ...       ...\n",
      "319 -3.969552  0.210658\n",
      "320 -1.231483  4.328215\n",
      "321 -0.380659  2.340318\n",
      "322  2.005823 -4.028235\n",
      "323  0.546349 -3.589933\n",
      "\n",
      "[324 rows x 2 columns]\n",
      "0      1\n",
      "1      2\n",
      "2      1\n",
      "3      2\n",
      "4      0\n",
      "      ..\n",
      "319    2\n",
      "320    2\n",
      "321    2\n",
      "322    0\n",
      "323    0\n",
      "Name: identified_clusters, Length: 324, dtype: int32\n"
     ]
    }
   ],
   "source": [
    "x_train = x[['0','1']]\n",
    "y_train = x['identified_clusters']\n",
    "print(x_train)\n",
    "print(y_train)"
   ]
  },
  {
   "cell_type": "code",
   "execution_count": 14,
   "metadata": {
    "colab": {
     "base_uri": "https://localhost:8080/",
     "height": 1000
    },
    "id": "1Sd3nwWdDzYg",
    "outputId": "6e31e290-7e5e-4e7f-9543-b4c455a0a5bc"
   },
   "outputs": [
    {
     "data": {
      "text/html": [
       "<div>\n",
       "<style scoped>\n",
       "    .dataframe tbody tr th:only-of-type {\n",
       "        vertical-align: middle;\n",
       "    }\n",
       "\n",
       "    .dataframe tbody tr th {\n",
       "        vertical-align: top;\n",
       "    }\n",
       "\n",
       "    .dataframe thead th {\n",
       "        text-align: right;\n",
       "    }\n",
       "</style>\n",
       "<table border=\"1\" class=\"dataframe\">\n",
       "  <thead>\n",
       "    <tr style=\"text-align: right;\">\n",
       "      <th></th>\n",
       "      <th>0</th>\n",
       "      <th>1</th>\n",
       "    </tr>\n",
       "  </thead>\n",
       "  <tbody>\n",
       "    <tr>\n",
       "      <th>0</th>\n",
       "      <td>-1.749593</td>\n",
       "      <td>-0.156003</td>\n",
       "    </tr>\n",
       "    <tr>\n",
       "      <th>1</th>\n",
       "      <td>0.368625</td>\n",
       "      <td>3.140500</td>\n",
       "    </tr>\n",
       "    <tr>\n",
       "      <th>2</th>\n",
       "      <td>-1.799280</td>\n",
       "      <td>0.049168</td>\n",
       "    </tr>\n",
       "    <tr>\n",
       "      <th>3</th>\n",
       "      <td>-0.177061</td>\n",
       "      <td>-3.735070</td>\n",
       "    </tr>\n",
       "    <tr>\n",
       "      <th>4</th>\n",
       "      <td>3.160910</td>\n",
       "      <td>3.202912</td>\n",
       "    </tr>\n",
       "    <tr>\n",
       "      <th>5</th>\n",
       "      <td>-3.264976</td>\n",
       "      <td>1.895905</td>\n",
       "    </tr>\n",
       "    <tr>\n",
       "      <th>6</th>\n",
       "      <td>-0.914822</td>\n",
       "      <td>-3.725331</td>\n",
       "    </tr>\n",
       "    <tr>\n",
       "      <th>7</th>\n",
       "      <td>2.097375</td>\n",
       "      <td>0.938554</td>\n",
       "    </tr>\n",
       "    <tr>\n",
       "      <th>8</th>\n",
       "      <td>0.006415</td>\n",
       "      <td>3.213170</td>\n",
       "    </tr>\n",
       "    <tr>\n",
       "      <th>9</th>\n",
       "      <td>-1.898791</td>\n",
       "      <td>4.079779</td>\n",
       "    </tr>\n",
       "    <tr>\n",
       "      <th>10</th>\n",
       "      <td>0.188479</td>\n",
       "      <td>3.181617</td>\n",
       "    </tr>\n",
       "    <tr>\n",
       "      <th>11</th>\n",
       "      <td>-0.768414</td>\n",
       "      <td>4.433908</td>\n",
       "    </tr>\n",
       "    <tr>\n",
       "      <th>12</th>\n",
       "      <td>-0.914822</td>\n",
       "      <td>3.225331</td>\n",
       "    </tr>\n",
       "    <tr>\n",
       "      <th>13</th>\n",
       "      <td>-0.863661</td>\n",
       "      <td>-1.297517</td>\n",
       "    </tr>\n",
       "    <tr>\n",
       "      <th>14</th>\n",
       "      <td>-3.653391</td>\n",
       "      <td>1.268593</td>\n",
       "    </tr>\n",
       "    <tr>\n",
       "      <th>15</th>\n",
       "      <td>-2.897597</td>\n",
       "      <td>3.442954</td>\n",
       "    </tr>\n",
       "    <tr>\n",
       "      <th>16</th>\n",
       "      <td>0.456047</td>\n",
       "      <td>-1.562287</td>\n",
       "    </tr>\n",
       "    <tr>\n",
       "      <th>17</th>\n",
       "      <td>1.713734</td>\n",
       "      <td>1.684177</td>\n",
       "    </tr>\n",
       "    <tr>\n",
       "      <th>18</th>\n",
       "      <td>-1.278823</td>\n",
       "      <td>-3.662248</td>\n",
       "    </tr>\n",
       "    <tr>\n",
       "      <th>19</th>\n",
       "      <td>2.419240</td>\n",
       "      <td>3.794375</td>\n",
       "    </tr>\n",
       "    <tr>\n",
       "      <th>20</th>\n",
       "      <td>1.058143</td>\n",
       "      <td>-1.373660</td>\n",
       "    </tr>\n",
       "    <tr>\n",
       "      <th>21</th>\n",
       "      <td>0.140267</td>\n",
       "      <td>2.416492</td>\n",
       "    </tr>\n",
       "    <tr>\n",
       "      <th>22</th>\n",
       "      <td>1.329386</td>\n",
       "      <td>2.043960</td>\n",
       "    </tr>\n",
       "    <tr>\n",
       "      <th>23</th>\n",
       "      <td>4.001408</td>\n",
       "      <td>2.058819</td>\n",
       "    </tr>\n",
       "    <tr>\n",
       "      <th>24</th>\n",
       "      <td>-0.677240</td>\n",
       "      <td>2.229902</td>\n",
       "    </tr>\n",
       "    <tr>\n",
       "      <th>25</th>\n",
       "      <td>-1.475833</td>\n",
       "      <td>-0.724471</td>\n",
       "    </tr>\n",
       "    <tr>\n",
       "      <th>26</th>\n",
       "      <td>-0.533342</td>\n",
       "      <td>4.468282</td>\n",
       "    </tr>\n",
       "    <tr>\n",
       "      <th>27</th>\n",
       "      <td>3.480901</td>\n",
       "      <td>-2.851899</td>\n",
       "    </tr>\n",
       "    <tr>\n",
       "      <th>28</th>\n",
       "      <td>2.005823</td>\n",
       "      <td>4.028235</td>\n",
       "    </tr>\n",
       "    <tr>\n",
       "      <th>29</th>\n",
       "      <td>4.276068</td>\n",
       "      <td>1.401870</td>\n",
       "    </tr>\n",
       "    <tr>\n",
       "      <th>30</th>\n",
       "      <td>-4.373576</td>\n",
       "      <td>-1.059166</td>\n",
       "    </tr>\n",
       "    <tr>\n",
       "      <th>31</th>\n",
       "      <td>-4.054360</td>\n",
       "      <td>-1.952477</td>\n",
       "    </tr>\n",
       "    <tr>\n",
       "      <th>32</th>\n",
       "      <td>2.878739</td>\n",
       "      <td>0.663302</td>\n",
       "    </tr>\n",
       "    <tr>\n",
       "      <th>33</th>\n",
       "      <td>4.104486</td>\n",
       "      <td>-1.844774</td>\n",
       "    </tr>\n",
       "    <tr>\n",
       "      <th>34</th>\n",
       "      <td>2.031611</td>\n",
       "      <td>1.139150</td>\n",
       "    </tr>\n",
       "    <tr>\n",
       "      <th>35</th>\n",
       "      <td>2.031611</td>\n",
       "      <td>-0.305817</td>\n",
       "    </tr>\n",
       "  </tbody>\n",
       "</table>\n",
       "</div>"
      ],
      "text/plain": [
       "           0         1\n",
       "0  -1.749593 -0.156003\n",
       "1   0.368625  3.140500\n",
       "2  -1.799280  0.049168\n",
       "3  -0.177061 -3.735070\n",
       "4   3.160910  3.202912\n",
       "5  -3.264976  1.895905\n",
       "6  -0.914822 -3.725331\n",
       "7   2.097375  0.938554\n",
       "8   0.006415  3.213170\n",
       "9  -1.898791  4.079779\n",
       "10  0.188479  3.181617\n",
       "11 -0.768414  4.433908\n",
       "12 -0.914822  3.225331\n",
       "13 -0.863661 -1.297517\n",
       "14 -3.653391  1.268593\n",
       "15 -2.897597  3.442954\n",
       "16  0.456047 -1.562287\n",
       "17  1.713734  1.684177\n",
       "18 -1.278823 -3.662248\n",
       "19  2.419240  3.794375\n",
       "20  1.058143 -1.373660\n",
       "21  0.140267  2.416492\n",
       "22  1.329386  2.043960\n",
       "23  4.001408  2.058819\n",
       "24 -0.677240  2.229902\n",
       "25 -1.475833 -0.724471\n",
       "26 -0.533342  4.468282\n",
       "27  3.480901 -2.851899\n",
       "28  2.005823  4.028235\n",
       "29  4.276068  1.401870\n",
       "30 -4.373576 -1.059166\n",
       "31 -4.054360 -1.952477\n",
       "32  2.878739  0.663302\n",
       "33  4.104486 -1.844774\n",
       "34  2.031611  1.139150\n",
       "35  2.031611 -0.305817"
      ]
     },
     "execution_count": 14,
     "metadata": {},
     "output_type": "execute_result"
    }
   ],
   "source": [
    "x_test = df_test[['0','1']]\n",
    "x_test"
   ]
  },
  {
   "cell_type": "code",
   "execution_count": 15,
   "metadata": {
    "colab": {
     "base_uri": "https://localhost:8080/"
    },
    "id": "5lv4dpg2Luuf",
    "outputId": "7d16239d-6513-4b56-82c6-a1b30553fa08"
   },
   "outputs": [
    {
     "data": {
      "text/plain": [
       "array([1, 2, 1, 2, 0, 1, 0, 1, 2, 2, 2, 0, 0, 0, 0, 2, 2, 1, 0, 0, 2, 1,\n",
       "       1, 0, 1, 2, 2, 0, 1, 1, 2, 1, 2, 2, 1, 2, 0, 0, 0, 0, 1, 0, 0, 2,\n",
       "       1, 2, 2, 2, 0, 0, 2, 2, 1, 1, 0, 2, 0, 1, 1, 2, 0, 2, 2, 0, 1, 1,\n",
       "       2, 1, 1, 0, 1, 2, 2, 0, 1, 1, 0, 1, 2, 1, 1, 0, 0, 0, 0, 0, 1, 1,\n",
       "       2, 0, 0, 1, 0, 2, 1, 1, 0, 0, 0, 1, 0, 1, 1, 2, 0, 1, 1, 0, 1, 2,\n",
       "       1, 0, 2, 2, 0, 0, 2, 1, 2, 0, 1, 1, 2, 1, 1, 2, 1, 2, 1, 0, 2, 2,\n",
       "       2, 0, 0, 1, 0, 1, 1, 0, 2, 0, 1, 1, 1, 1, 2, 2, 0, 2, 1, 0, 2, 0,\n",
       "       1, 1, 0, 2, 0, 2, 1, 2, 1, 0, 2, 1, 2, 1, 1, 2, 0, 0, 1, 1, 2, 0,\n",
       "       2, 2, 0, 1, 0, 0, 1, 2, 2, 1, 0, 1, 0, 0, 1, 0, 1, 1, 0, 0, 2, 0,\n",
       "       1, 0, 2, 1, 0, 2, 2, 2, 2, 2, 1, 1, 0, 2, 1, 0, 0, 2, 0, 2, 2, 2,\n",
       "       0, 1, 1, 2, 1, 2, 0, 0, 2, 1, 2, 0, 1, 2, 2, 1, 1, 0, 0, 0, 0, 2,\n",
       "       0, 2, 2, 0, 1, 1, 0, 2, 2, 2, 1, 1, 0, 0, 1, 1, 0, 2, 0, 2, 1, 1,\n",
       "       1, 2, 1, 2, 1, 2, 1, 2, 0, 1, 1, 0, 2, 1, 1, 1, 0, 2, 2, 2, 2, 0,\n",
       "       2, 0, 2, 2, 0, 1, 0, 0, 1, 1, 0, 2, 1, 2, 1, 1, 2, 2, 2, 0, 1, 0,\n",
       "       1, 2, 2, 2, 0, 1, 1, 2, 0, 1, 0, 2, 2, 2, 0, 0], dtype=int32)"
      ]
     },
     "execution_count": 15,
     "metadata": {},
     "output_type": "execute_result"
    }
   ],
   "source": [
    "from sklearn.linear_model import LogisticRegression\n",
    "logisticRegr = LogisticRegression()\n",
    "logisticRegr.fit(x_train, y_train)\n",
    "predictions_train = logisticRegr.predict(x_train)\n",
    "predictions_train"
   ]
  },
  {
   "cell_type": "code",
   "execution_count": 16,
   "metadata": {
    "colab": {
     "base_uri": "https://localhost:8080/",
     "height": 283
    },
    "id": "dagRbPiFL8zV",
    "outputId": "f631e3ae-1786-4991-917d-b69f0088a5e5"
   },
   "outputs": [
    {
     "data": {
      "text/plain": [
       "<matplotlib.collections.PathCollection at 0x7f97508f6ac0>"
      ]
     },
     "execution_count": 16,
     "metadata": {},
     "output_type": "execute_result"
    },
    {
     "data": {
      "image/png": "[encoded data removed]",
      "text/plain": [
       "<Figure size 432x288 with 1 Axes>"
      ]
     },
     "metadata": {
      "needs_background": "light"
     },
     "output_type": "display_data"
    }
   ],
   "source": [
    "data_with_clusters = df_train.copy()\n",
    "data_with_clusters['Clusters'] = predictions_train \n",
    "plt.scatter(data_with_clusters['0'],data_with_clusters['1'],c=data_with_clusters['Clusters'])"
   ]
  },
  {
   "cell_type": "code",
   "execution_count": 17,
   "metadata": {
    "colab": {
     "base_uri": "https://localhost:8080/"
    },
    "id": "FFjTcSL5MKAT",
    "outputId": "bb975528-9d8e-476f-929a-59a54d877412"
   },
   "outputs": [
    {
     "name": "stdout",
     "output_type": "stream",
     "text": [
      "The accuracy of logistic Regression: 1.0\n"
     ]
    }
   ],
   "source": [
    "from sklearn.metrics import accuracy_score\n",
    "\n",
    "# Accuracy score for K means model:\n",
    "acc_LR = accuracy_score(y_true=identified_clusters, y_pred=predictions_train)\n",
    "print(\"The accuracy of logistic Regression:\",acc_LR)"
   ]
  },
  {
   "cell_type": "code",
   "execution_count": 18,
   "metadata": {
    "colab": {
     "base_uri": "https://localhost:8080/"
    },
    "id": "IlLTh0ghDzfC",
    "outputId": "2601bfb2-50c7-4f5d-d0c0-a40525124db6"
   },
   "outputs": [
    {
     "data": {
      "text/plain": [
       "array([2, 1, 2, 0, 1, 2, 0, 1, 1, 2, 1, 2, 2, 0, 2, 2, 0, 1, 0, 1, 0, 1,\n",
       "       1, 1, 2, 2, 1, 0, 1, 1, 2, 2, 1, 1, 1, 1], dtype=int32)"
      ]
     },
     "execution_count": 18,
     "metadata": {},
     "output_type": "execute_result"
    }
   ],
   "source": [
    "from sklearn.linear_model import LogisticRegression\n",
    "logisticRegr = LogisticRegression()\n",
    "logisticRegr.fit(x_train, y_train)\n",
    "predictions_test = logisticRegr.predict(x_test)\n",
    "predictions_test"
   ]
  },
  {
   "cell_type": "code",
   "execution_count": 19,
   "metadata": {
    "colab": {
     "base_uri": "https://localhost:8080/",
     "height": 283
    },
    "id": "70CdV8xIDz_2",
    "outputId": "23bd5943-86e7-4b3d-ae4b-c08a79b2071e"
   },
   "outputs": [
    {
     "data": {
      "text/plain": [
       "<matplotlib.collections.PathCollection at 0x7f97603adcd0>"
      ]
     },
     "execution_count": 19,
     "metadata": {},
     "output_type": "execute_result"
    },
    {
     "data": {
      "image/png": "[encoded data removed]",
      "text/plain": [
       "<Figure size 432x288 with 1 Axes>"
      ]
     },
     "metadata": {
      "needs_background": "light"
     },
     "output_type": "display_data"
    }
   ],
   "source": [
    "data_with_clusters = df_test.copy()\n",
    "data_with_clusters['Clusters'] = predictions_test \n",
    "plt.scatter(data_with_clusters['0'],data_with_clusters['1'],c=data_with_clusters['Clusters'])"
   ]
  },
  {
   "cell_type": "markdown",
   "metadata": {
    "id": "70xwm6V4D0aN"
   },
   "source": [
    "## KNN"
   ]
  },
  {
   "cell_type": "code",
   "execution_count": 20,
   "metadata": {
    "id": "BUSjIIuhD0zP"
   },
   "outputs": [],
   "source": [
    "from sklearn.preprocessing import StandardScaler\n",
    "from sklearn.neighbors import KNeighborsClassifier"
   ]
  },
  {
   "cell_type": "code",
   "execution_count": 21,
   "metadata": {
    "id": "CySg3fokD05N"
   },
   "outputs": [],
   "source": [
    "scaler = StandardScaler()\n",
    "scaler.fit(x_train)\n",
    "\n",
    "x_std_train = scaler.transform(x_train)\n",
    "x_std_test = scaler.transform(x_test)\n"
   ]
  },
  {
   "cell_type": "code",
   "execution_count": 22,
   "metadata": {
    "id": "M89KKTIpD09K"
   },
   "outputs": [],
   "source": [
    "def KNNclassifier(i):\n",
    "    classifier = KNeighborsClassifier(n_neighbors=i)\n",
    "    classifier.fit(x_std_train, y_train)\n",
    "    y_pred = classifier.predict(x_std_train)\n",
    "    return y_pred"
   ]
  },
  {
   "cell_type": "code",
   "execution_count": 23,
   "metadata": {
    "colab": {
     "base_uri": "https://localhost:8080/",
     "height": 423
    },
    "id": "lvh_pErJD1Ag",
    "outputId": "47071d8c-8ed5-4ae4-e951-4607cdf40bb4"
   },
   "outputs": [
    {
     "data": {
      "text/html": [
       "<div>\n",
       "<style scoped>\n",
       "    .dataframe tbody tr th:only-of-type {\n",
       "        vertical-align: middle;\n",
       "    }\n",
       "\n",
       "    .dataframe tbody tr th {\n",
       "        vertical-align: top;\n",
       "    }\n",
       "\n",
       "    .dataframe thead th {\n",
       "        text-align: right;\n",
       "    }\n",
       "</style>\n",
       "<table border=\"1\" class=\"dataframe\">\n",
       "  <thead>\n",
       "    <tr style=\"text-align: right;\">\n",
       "      <th></th>\n",
       "      <th>0</th>\n",
       "      <th>1</th>\n",
       "      <th>2</th>\n",
       "      <th>3</th>\n",
       "    </tr>\n",
       "  </thead>\n",
       "  <tbody>\n",
       "    <tr>\n",
       "      <th>0</th>\n",
       "      <td>1</td>\n",
       "      <td>1</td>\n",
       "      <td>1</td>\n",
       "      <td>1</td>\n",
       "    </tr>\n",
       "    <tr>\n",
       "      <th>1</th>\n",
       "      <td>2</td>\n",
       "      <td>2</td>\n",
       "      <td>2</td>\n",
       "      <td>2</td>\n",
       "    </tr>\n",
       "    <tr>\n",
       "      <th>2</th>\n",
       "      <td>1</td>\n",
       "      <td>1</td>\n",
       "      <td>1</td>\n",
       "      <td>1</td>\n",
       "    </tr>\n",
       "    <tr>\n",
       "      <th>3</th>\n",
       "      <td>2</td>\n",
       "      <td>2</td>\n",
       "      <td>2</td>\n",
       "      <td>2</td>\n",
       "    </tr>\n",
       "    <tr>\n",
       "      <th>4</th>\n",
       "      <td>0</td>\n",
       "      <td>0</td>\n",
       "      <td>0</td>\n",
       "      <td>0</td>\n",
       "    </tr>\n",
       "    <tr>\n",
       "      <th>...</th>\n",
       "      <td>...</td>\n",
       "      <td>...</td>\n",
       "      <td>...</td>\n",
       "      <td>...</td>\n",
       "    </tr>\n",
       "    <tr>\n",
       "      <th>319</th>\n",
       "      <td>2</td>\n",
       "      <td>2</td>\n",
       "      <td>2</td>\n",
       "      <td>2</td>\n",
       "    </tr>\n",
       "    <tr>\n",
       "      <th>320</th>\n",
       "      <td>2</td>\n",
       "      <td>2</td>\n",
       "      <td>2</td>\n",
       "      <td>2</td>\n",
       "    </tr>\n",
       "    <tr>\n",
       "      <th>321</th>\n",
       "      <td>2</td>\n",
       "      <td>1</td>\n",
       "      <td>2</td>\n",
       "      <td>2</td>\n",
       "    </tr>\n",
       "    <tr>\n",
       "      <th>322</th>\n",
       "      <td>0</td>\n",
       "      <td>0</td>\n",
       "      <td>0</td>\n",
       "      <td>0</td>\n",
       "    </tr>\n",
       "    <tr>\n",
       "      <th>323</th>\n",
       "      <td>0</td>\n",
       "      <td>0</td>\n",
       "      <td>0</td>\n",
       "      <td>0</td>\n",
       "    </tr>\n",
       "  </tbody>\n",
       "</table>\n",
       "<p>324 rows × 4 columns</p>\n",
       "</div>"
      ],
      "text/plain": [
       "     0  1  2  3\n",
       "0    1  1  1  1\n",
       "1    2  2  2  2\n",
       "2    1  1  1  1\n",
       "3    2  2  2  2\n",
       "4    0  0  0  0\n",
       "..  .. .. .. ..\n",
       "319  2  2  2  2\n",
       "320  2  2  2  2\n",
       "321  2  1  2  2\n",
       "322  0  0  0  0\n",
       "323  0  0  0  0\n",
       "\n",
       "[324 rows x 4 columns]"
      ]
     },
     "execution_count": 23,
     "metadata": {},
     "output_type": "execute_result"
    }
   ],
   "source": [
    "C = []\n",
    "nearest_neighbors = [1,10,50,100]\n",
    "for i in nearest_neighbors:\n",
    "    c = KNNclassifier(i)\n",
    "    C.append(c)\n",
    "C_df = pd.DataFrame(C)\n",
    "C_df = C_df.T\n",
    "C_df"
   ]
  },
  {
   "cell_type": "code",
   "execution_count": 24,
   "metadata": {
    "colab": {
     "base_uri": "https://localhost:8080/",
     "height": 423
    },
    "id": "g6BD_swgD1Dn",
    "outputId": "ea12dcce-cf02-4a10-db23-8ab4c29a71ce"
   },
   "outputs": [
    {
     "data": {
      "text/html": [
       "<div>\n",
       "<style scoped>\n",
       "    .dataframe tbody tr th:only-of-type {\n",
       "        vertical-align: middle;\n",
       "    }\n",
       "\n",
       "    .dataframe tbody tr th {\n",
       "        vertical-align: top;\n",
       "    }\n",
       "\n",
       "    .dataframe thead th {\n",
       "        text-align: right;\n",
       "    }\n",
       "</style>\n",
       "<table border=\"1\" class=\"dataframe\">\n",
       "  <thead>\n",
       "    <tr style=\"text-align: right;\">\n",
       "      <th></th>\n",
       "      <th>Unnamed: 0</th>\n",
       "      <th>0</th>\n",
       "      <th>1</th>\n",
       "      <th>0</th>\n",
       "      <th>1</th>\n",
       "      <th>2</th>\n",
       "      <th>3</th>\n",
       "    </tr>\n",
       "  </thead>\n",
       "  <tbody>\n",
       "    <tr>\n",
       "      <th>0</th>\n",
       "      <td>0</td>\n",
       "      <td>1.990883</td>\n",
       "      <td>-0.403233</td>\n",
       "      <td>1</td>\n",
       "      <td>1</td>\n",
       "      <td>1</td>\n",
       "      <td>1</td>\n",
       "    </tr>\n",
       "    <tr>\n",
       "      <th>1</th>\n",
       "      <td>1</td>\n",
       "      <td>-3.853454</td>\n",
       "      <td>-1.252172</td>\n",
       "      <td>2</td>\n",
       "      <td>2</td>\n",
       "      <td>2</td>\n",
       "      <td>2</td>\n",
       "    </tr>\n",
       "    <tr>\n",
       "      <th>2</th>\n",
       "      <td>2</td>\n",
       "      <td>3.887177</td>\n",
       "      <td>2.267125</td>\n",
       "      <td>1</td>\n",
       "      <td>1</td>\n",
       "      <td>1</td>\n",
       "      <td>1</td>\n",
       "    </tr>\n",
       "    <tr>\n",
       "      <th>3</th>\n",
       "      <td>3</td>\n",
       "      <td>-3.475760</td>\n",
       "      <td>1.592513</td>\n",
       "      <td>2</td>\n",
       "      <td>2</td>\n",
       "      <td>2</td>\n",
       "      <td>2</td>\n",
       "    </tr>\n",
       "    <tr>\n",
       "      <th>4</th>\n",
       "      <td>4</td>\n",
       "      <td>0.663024</td>\n",
       "      <td>-1.520762</td>\n",
       "      <td>0</td>\n",
       "      <td>0</td>\n",
       "      <td>0</td>\n",
       "      <td>0</td>\n",
       "    </tr>\n",
       "    <tr>\n",
       "      <th>...</th>\n",
       "      <td>...</td>\n",
       "      <td>...</td>\n",
       "      <td>...</td>\n",
       "      <td>...</td>\n",
       "      <td>...</td>\n",
       "      <td>...</td>\n",
       "      <td>...</td>\n",
       "    </tr>\n",
       "    <tr>\n",
       "      <th>319</th>\n",
       "      <td>319</td>\n",
       "      <td>-3.969552</td>\n",
       "      <td>0.210658</td>\n",
       "      <td>2</td>\n",
       "      <td>2</td>\n",
       "      <td>2</td>\n",
       "      <td>2</td>\n",
       "    </tr>\n",
       "    <tr>\n",
       "      <th>320</th>\n",
       "      <td>320</td>\n",
       "      <td>-1.231483</td>\n",
       "      <td>4.328215</td>\n",
       "      <td>2</td>\n",
       "      <td>2</td>\n",
       "      <td>2</td>\n",
       "      <td>2</td>\n",
       "    </tr>\n",
       "    <tr>\n",
       "      <th>321</th>\n",
       "      <td>321</td>\n",
       "      <td>-0.380659</td>\n",
       "      <td>2.340318</td>\n",
       "      <td>2</td>\n",
       "      <td>1</td>\n",
       "      <td>2</td>\n",
       "      <td>2</td>\n",
       "    </tr>\n",
       "    <tr>\n",
       "      <th>322</th>\n",
       "      <td>322</td>\n",
       "      <td>2.005823</td>\n",
       "      <td>-4.028235</td>\n",
       "      <td>0</td>\n",
       "      <td>0</td>\n",
       "      <td>0</td>\n",
       "      <td>0</td>\n",
       "    </tr>\n",
       "    <tr>\n",
       "      <th>323</th>\n",
       "      <td>323</td>\n",
       "      <td>0.546349</td>\n",
       "      <td>-3.589933</td>\n",
       "      <td>0</td>\n",
       "      <td>0</td>\n",
       "      <td>0</td>\n",
       "      <td>0</td>\n",
       "    </tr>\n",
       "  </tbody>\n",
       "</table>\n",
       "<p>324 rows × 7 columns</p>\n",
       "</div>"
      ],
      "text/plain": [
       "     Unnamed: 0         0         1  0  1  2  3\n",
       "0             0  1.990883 -0.403233  1  1  1  1\n",
       "1             1 -3.853454 -1.252172  2  2  2  2\n",
       "2             2  3.887177  2.267125  1  1  1  1\n",
       "3             3 -3.475760  1.592513  2  2  2  2\n",
       "4             4  0.663024 -1.520762  0  0  0  0\n",
       "..          ...       ...       ... .. .. .. ..\n",
       "319         319 -3.969552  0.210658  2  2  2  2\n",
       "320         320 -1.231483  4.328215  2  2  2  2\n",
       "321         321 -0.380659  2.340318  2  1  2  2\n",
       "322         322  2.005823 -4.028235  0  0  0  0\n",
       "323         323  0.546349 -3.589933  0  0  0  0\n",
       "\n",
       "[324 rows x 7 columns]"
      ]
     },
     "execution_count": 24,
     "metadata": {},
     "output_type": "execute_result"
    }
   ],
   "source": [
    "result = pd.concat([df_train, C_df], axis=1, join=\"inner\")\n",
    "result"
   ]
  },
  {
   "cell_type": "code",
   "execution_count": 25,
   "metadata": {
    "colab": {
     "base_uri": "https://localhost:8080/",
     "height": 299
    },
    "id": "K8pO3C59D1Gt",
    "outputId": "42b18074-9702-4bde-8e1c-1f3b6c49db74"
   },
   "outputs": [
    {
     "data": {
      "text/plain": [
       "Text(0.5, 1.0, 'Nearest_Neighbors = 10 ')"
      ]
     },
     "execution_count": 25,
     "metadata": {},
     "output_type": "execute_result"
    },
    {
     "data": {
      "image/png": "[encoded data removed]",
      "text/plain": [
       "<Figure size 432x288 with 1 Axes>"
      ]
     },
     "metadata": {
      "needs_background": "light"
     },
     "output_type": "display_data"
    }
   ],
   "source": [
    "plt.scatter(result['0'],result['1'],c=result[1])\n",
    "plt.title(\"Nearest_Neighbors = 10 \")"
   ]
  },
  {
   "cell_type": "code",
   "execution_count": 26,
   "metadata": {
    "colab": {
     "base_uri": "https://localhost:8080/",
     "height": 299
    },
    "id": "hVHj0DOdD1J6",
    "outputId": "75fa7e25-0eea-4e37-f09d-b053a9c23da3"
   },
   "outputs": [
    {
     "data": {
      "text/plain": [
       "Text(0.5, 1.0, 'Nearest_Neighbors = 1 ')"
      ]
     },
     "execution_count": 26,
     "metadata": {},
     "output_type": "execute_result"
    },
    {
     "data": {
      "image/png": "[encoded data removed]",
      "text/plain": [
       "<Figure size 432x288 with 1 Axes>"
      ]
     },
     "metadata": {
      "needs_background": "light"
     },
     "output_type": "display_data"
    }
   ],
   "source": [
    "plt.scatter(result['0'],result['1'],c=result[0])\n",
    "plt.title(\"Nearest_Neighbors = 1 \")"
   ]
  },
  {
   "cell_type": "code",
   "execution_count": 27,
   "metadata": {
    "colab": {
     "base_uri": "https://localhost:8080/",
     "height": 299
    },
    "id": "a7xh0NHkD1NN",
    "outputId": "59b71e95-3bb9-4de0-ef7c-3b1d73f1d876"
   },
   "outputs": [
    {
     "data": {
      "text/plain": [
       "Text(0.5, 1.0, 'Nearest_Neighbors = 50 ')"
      ]
     },
     "execution_count": 27,
     "metadata": {},
     "output_type": "execute_result"
    },
    {
     "data": {
      "image/png": "[encoded data removed]",
      "text/plain": [
       "<Figure size 432x288 with 1 Axes>"
      ]
     },
     "metadata": {
      "needs_background": "light"
     },
     "output_type": "display_data"
    }
   ],
   "source": [
    "plt.scatter(result['0'],result['1'],c=result[1])\n",
    "plt.title(\"Nearest_Neighbors = 50 \")"
   ]
  },
  {
   "cell_type": "code",
   "execution_count": 28,
   "metadata": {
    "colab": {
     "base_uri": "https://localhost:8080/",
     "height": 299
    },
    "id": "FY_V22RMD1QX",
    "outputId": "4f2a4528-4243-4edb-9238-6e9f9835101a"
   },
   "outputs": [
    {
     "data": {
      "text/plain": [
       "Text(0.5, 1.0, 'Nearest_Neighbors = 100 ')"
      ]
     },
     "execution_count": 28,
     "metadata": {},
     "output_type": "execute_result"
    },
    {
     "data": {
      "image/png": "[encoded data removed]",
      "text/plain": [
       "<Figure size 432x288 with 1 Axes>"
      ]
     },
     "metadata": {
      "needs_background": "light"
     },
     "output_type": "display_data"
    }
   ],
   "source": [
    "plt.scatter(result['0'],result['1'],c=result[1])\n",
    "plt.title(\"Nearest_Neighbors = 100 \")"
   ]
  },
  {
   "cell_type": "code",
   "execution_count": 29,
   "metadata": {
    "colab": {
     "base_uri": "https://localhost:8080/"
    },
    "id": "C1b4v3I8MwE2",
    "outputId": "e075fd20-479e-44a7-cc77-c8d0e0db1b07"
   },
   "outputs": [
    {
     "name": "stdout",
     "output_type": "stream",
     "text": [
      "Accuracy Score for KNN when Near_neighbors = 1: 1.0\n",
      "Accuracy Score for KNN when Near_neighbors = 10: 0.9876543209876543\n",
      "Accuracy Score for KNN when Near_neighbors = 50: 0.9907407407407407\n",
      "Accuracy Score for KNN when Near_neighbors = 100: 0.9938271604938271\n"
     ]
    }
   ],
   "source": [
    "cc1 = KNNclassifier(1)\n",
    "cc10 = KNNclassifier(10)\n",
    "cc50 = KNNclassifier(50)\n",
    "cc100 = KNNclassifier(100)\n",
    "# Accuracy score for K means model:\n",
    "acc_score_knn1 = accuracy_score(y_true=identified_clusters, y_pred=cc1)\n",
    "print(\"Accuracy Score for KNN when Near_neighbors = 1:\",acc_score_knn1)\n",
    "acc_score_knn10 = accuracy_score(y_true=identified_clusters, y_pred=cc10)\n",
    "print(\"Accuracy Score for KNN when Near_neighbors = 10:\",acc_score_knn10)\n",
    "acc_score_knn50 = accuracy_score(y_true=identified_clusters, y_pred=cc50)\n",
    "print(\"Accuracy Score for KNN when Near_neighbors = 50:\",acc_score_knn50)\n",
    "acc_score_knn100 = accuracy_score(y_true=identified_clusters, y_pred=cc100)\n",
    "print(\"Accuracy Score for KNN when Near_neighbors = 100:\",acc_score_knn100)"
   ]
  },
  {
   "cell_type": "code",
   "execution_count": 30,
   "metadata": {
    "id": "PENtO_JJD1TZ"
   },
   "outputs": [],
   "source": [
    "def KNNclassifierTest(i):\n",
    "    classifier = KNeighborsClassifier(n_neighbors=i)\n",
    "    classifier.fit(x_std_train, y_train)\n",
    "    y_pred = classifier.predict(x_test)\n",
    "    return y_pred"
   ]
  },
  {
   "cell_type": "code",
   "execution_count": 31,
   "metadata": {
    "colab": {
     "base_uri": "https://localhost:8080/",
     "height": 1000
    },
    "id": "qSYAUxU0D1Wj",
    "outputId": "fc2649b3-6f81-46fc-8ef7-e07bda1b1a62"
   },
   "outputs": [
    {
     "data": {
      "text/html": [
       "<div>\n",
       "<style scoped>\n",
       "    .dataframe tbody tr th:only-of-type {\n",
       "        vertical-align: middle;\n",
       "    }\n",
       "\n",
       "    .dataframe tbody tr th {\n",
       "        vertical-align: top;\n",
       "    }\n",
       "\n",
       "    .dataframe thead th {\n",
       "        text-align: right;\n",
       "    }\n",
       "</style>\n",
       "<table border=\"1\" class=\"dataframe\">\n",
       "  <thead>\n",
       "    <tr style=\"text-align: right;\">\n",
       "      <th></th>\n",
       "      <th>0</th>\n",
       "      <th>1</th>\n",
       "      <th>2</th>\n",
       "      <th>3</th>\n",
       "    </tr>\n",
       "  </thead>\n",
       "  <tbody>\n",
       "    <tr>\n",
       "      <th>0</th>\n",
       "      <td>2</td>\n",
       "      <td>2</td>\n",
       "      <td>2</td>\n",
       "      <td>2</td>\n",
       "    </tr>\n",
       "    <tr>\n",
       "      <th>1</th>\n",
       "      <td>1</td>\n",
       "      <td>1</td>\n",
       "      <td>1</td>\n",
       "      <td>1</td>\n",
       "    </tr>\n",
       "    <tr>\n",
       "      <th>2</th>\n",
       "      <td>2</td>\n",
       "      <td>2</td>\n",
       "      <td>2</td>\n",
       "      <td>2</td>\n",
       "    </tr>\n",
       "    <tr>\n",
       "      <th>3</th>\n",
       "      <td>0</td>\n",
       "      <td>0</td>\n",
       "      <td>0</td>\n",
       "      <td>0</td>\n",
       "    </tr>\n",
       "    <tr>\n",
       "      <th>4</th>\n",
       "      <td>1</td>\n",
       "      <td>1</td>\n",
       "      <td>1</td>\n",
       "      <td>1</td>\n",
       "    </tr>\n",
       "    <tr>\n",
       "      <th>5</th>\n",
       "      <td>2</td>\n",
       "      <td>2</td>\n",
       "      <td>2</td>\n",
       "      <td>2</td>\n",
       "    </tr>\n",
       "    <tr>\n",
       "      <th>6</th>\n",
       "      <td>0</td>\n",
       "      <td>0</td>\n",
       "      <td>0</td>\n",
       "      <td>0</td>\n",
       "    </tr>\n",
       "    <tr>\n",
       "      <th>7</th>\n",
       "      <td>1</td>\n",
       "      <td>1</td>\n",
       "      <td>1</td>\n",
       "      <td>1</td>\n",
       "    </tr>\n",
       "    <tr>\n",
       "      <th>8</th>\n",
       "      <td>1</td>\n",
       "      <td>1</td>\n",
       "      <td>1</td>\n",
       "      <td>1</td>\n",
       "    </tr>\n",
       "    <tr>\n",
       "      <th>9</th>\n",
       "      <td>2</td>\n",
       "      <td>2</td>\n",
       "      <td>2</td>\n",
       "      <td>2</td>\n",
       "    </tr>\n",
       "    <tr>\n",
       "      <th>10</th>\n",
       "      <td>1</td>\n",
       "      <td>1</td>\n",
       "      <td>1</td>\n",
       "      <td>1</td>\n",
       "    </tr>\n",
       "    <tr>\n",
       "      <th>11</th>\n",
       "      <td>2</td>\n",
       "      <td>2</td>\n",
       "      <td>1</td>\n",
       "      <td>1</td>\n",
       "    </tr>\n",
       "    <tr>\n",
       "      <th>12</th>\n",
       "      <td>2</td>\n",
       "      <td>2</td>\n",
       "      <td>2</td>\n",
       "      <td>2</td>\n",
       "    </tr>\n",
       "    <tr>\n",
       "      <th>13</th>\n",
       "      <td>0</td>\n",
       "      <td>0</td>\n",
       "      <td>0</td>\n",
       "      <td>0</td>\n",
       "    </tr>\n",
       "    <tr>\n",
       "      <th>14</th>\n",
       "      <td>2</td>\n",
       "      <td>2</td>\n",
       "      <td>2</td>\n",
       "      <td>2</td>\n",
       "    </tr>\n",
       "    <tr>\n",
       "      <th>15</th>\n",
       "      <td>2</td>\n",
       "      <td>2</td>\n",
       "      <td>2</td>\n",
       "      <td>2</td>\n",
       "    </tr>\n",
       "    <tr>\n",
       "      <th>16</th>\n",
       "      <td>0</td>\n",
       "      <td>0</td>\n",
       "      <td>0</td>\n",
       "      <td>0</td>\n",
       "    </tr>\n",
       "    <tr>\n",
       "      <th>17</th>\n",
       "      <td>1</td>\n",
       "      <td>1</td>\n",
       "      <td>1</td>\n",
       "      <td>1</td>\n",
       "    </tr>\n",
       "    <tr>\n",
       "      <th>18</th>\n",
       "      <td>0</td>\n",
       "      <td>0</td>\n",
       "      <td>0</td>\n",
       "      <td>0</td>\n",
       "    </tr>\n",
       "    <tr>\n",
       "      <th>19</th>\n",
       "      <td>1</td>\n",
       "      <td>1</td>\n",
       "      <td>1</td>\n",
       "      <td>1</td>\n",
       "    </tr>\n",
       "    <tr>\n",
       "      <th>20</th>\n",
       "      <td>0</td>\n",
       "      <td>0</td>\n",
       "      <td>0</td>\n",
       "      <td>0</td>\n",
       "    </tr>\n",
       "    <tr>\n",
       "      <th>21</th>\n",
       "      <td>1</td>\n",
       "      <td>1</td>\n",
       "      <td>1</td>\n",
       "      <td>1</td>\n",
       "    </tr>\n",
       "    <tr>\n",
       "      <th>22</th>\n",
       "      <td>1</td>\n",
       "      <td>1</td>\n",
       "      <td>1</td>\n",
       "      <td>1</td>\n",
       "    </tr>\n",
       "    <tr>\n",
       "      <th>23</th>\n",
       "      <td>1</td>\n",
       "      <td>1</td>\n",
       "      <td>1</td>\n",
       "      <td>1</td>\n",
       "    </tr>\n",
       "    <tr>\n",
       "      <th>24</th>\n",
       "      <td>2</td>\n",
       "      <td>2</td>\n",
       "      <td>2</td>\n",
       "      <td>2</td>\n",
       "    </tr>\n",
       "    <tr>\n",
       "      <th>25</th>\n",
       "      <td>2</td>\n",
       "      <td>2</td>\n",
       "      <td>2</td>\n",
       "      <td>2</td>\n",
       "    </tr>\n",
       "    <tr>\n",
       "      <th>26</th>\n",
       "      <td>1</td>\n",
       "      <td>1</td>\n",
       "      <td>1</td>\n",
       "      <td>1</td>\n",
       "    </tr>\n",
       "    <tr>\n",
       "      <th>27</th>\n",
       "      <td>0</td>\n",
       "      <td>0</td>\n",
       "      <td>0</td>\n",
       "      <td>0</td>\n",
       "    </tr>\n",
       "    <tr>\n",
       "      <th>28</th>\n",
       "      <td>1</td>\n",
       "      <td>1</td>\n",
       "      <td>1</td>\n",
       "      <td>1</td>\n",
       "    </tr>\n",
       "    <tr>\n",
       "      <th>29</th>\n",
       "      <td>1</td>\n",
       "      <td>1</td>\n",
       "      <td>1</td>\n",
       "      <td>1</td>\n",
       "    </tr>\n",
       "    <tr>\n",
       "      <th>30</th>\n",
       "      <td>2</td>\n",
       "      <td>2</td>\n",
       "      <td>2</td>\n",
       "      <td>2</td>\n",
       "    </tr>\n",
       "    <tr>\n",
       "      <th>31</th>\n",
       "      <td>2</td>\n",
       "      <td>2</td>\n",
       "      <td>2</td>\n",
       "      <td>2</td>\n",
       "    </tr>\n",
       "    <tr>\n",
       "      <th>32</th>\n",
       "      <td>1</td>\n",
       "      <td>1</td>\n",
       "      <td>1</td>\n",
       "      <td>1</td>\n",
       "    </tr>\n",
       "    <tr>\n",
       "      <th>33</th>\n",
       "      <td>0</td>\n",
       "      <td>0</td>\n",
       "      <td>0</td>\n",
       "      <td>1</td>\n",
       "    </tr>\n",
       "    <tr>\n",
       "      <th>34</th>\n",
       "      <td>1</td>\n",
       "      <td>1</td>\n",
       "      <td>1</td>\n",
       "      <td>1</td>\n",
       "    </tr>\n",
       "    <tr>\n",
       "      <th>35</th>\n",
       "      <td>1</td>\n",
       "      <td>1</td>\n",
       "      <td>1</td>\n",
       "      <td>1</td>\n",
       "    </tr>\n",
       "  </tbody>\n",
       "</table>\n",
       "</div>"
      ],
      "text/plain": [
       "    0  1  2  3\n",
       "0   2  2  2  2\n",
       "1   1  1  1  1\n",
       "2   2  2  2  2\n",
       "3   0  0  0  0\n",
       "4   1  1  1  1\n",
       "5   2  2  2  2\n",
       "6   0  0  0  0\n",
       "7   1  1  1  1\n",
       "8   1  1  1  1\n",
       "9   2  2  2  2\n",
       "10  1  1  1  1\n",
       "11  2  2  1  1\n",
       "12  2  2  2  2\n",
       "13  0  0  0  0\n",
       "14  2  2  2  2\n",
       "15  2  2  2  2\n",
       "16  0  0  0  0\n",
       "17  1  1  1  1\n",
       "18  0  0  0  0\n",
       "19  1  1  1  1\n",
       "20  0  0  0  0\n",
       "21  1  1  1  1\n",
       "22  1  1  1  1\n",
       "23  1  1  1  1\n",
       "24  2  2  2  2\n",
       "25  2  2  2  2\n",
       "26  1  1  1  1\n",
       "27  0  0  0  0\n",
       "28  1  1  1  1\n",
       "29  1  1  1  1\n",
       "30  2  2  2  2\n",
       "31  2  2  2  2\n",
       "32  1  1  1  1\n",
       "33  0  0  0  1\n",
       "34  1  1  1  1\n",
       "35  1  1  1  1"
      ]
     },
     "execution_count": 31,
     "metadata": {},
     "output_type": "execute_result"
    }
   ],
   "source": [
    "C = []\n",
    "nearest_neighbors = [1,5,10,20]\n",
    "for i in nearest_neighbors:\n",
    "    c = KNNclassifierTest(i)\n",
    "    C.append(c)\n",
    "C_Test_df = pd.DataFrame(C)\n",
    "C_Test_df = C_Test_df.T\n",
    "C_Test_df"
   ]
  },
  {
   "cell_type": "code",
   "execution_count": 32,
   "metadata": {
    "colab": {
     "base_uri": "https://localhost:8080/",
     "height": 1000
    },
    "id": "WI7nqqorD1Zu",
    "outputId": "e77ddb16-5cff-4c9b-b875-92195e4e9b1c"
   },
   "outputs": [
    {
     "data": {
      "text/html": [
       "<div>\n",
       "<style scoped>\n",
       "    .dataframe tbody tr th:only-of-type {\n",
       "        vertical-align: middle;\n",
       "    }\n",
       "\n",
       "    .dataframe tbody tr th {\n",
       "        vertical-align: top;\n",
       "    }\n",
       "\n",
       "    .dataframe thead th {\n",
       "        text-align: right;\n",
       "    }\n",
       "</style>\n",
       "<table border=\"1\" class=\"dataframe\">\n",
       "  <thead>\n",
       "    <tr style=\"text-align: right;\">\n",
       "      <th></th>\n",
       "      <th>Unnamed: 0</th>\n",
       "      <th>0</th>\n",
       "      <th>1</th>\n",
       "      <th>0</th>\n",
       "      <th>1</th>\n",
       "      <th>2</th>\n",
       "      <th>3</th>\n",
       "    </tr>\n",
       "  </thead>\n",
       "  <tbody>\n",
       "    <tr>\n",
       "      <th>0</th>\n",
       "      <td>0</td>\n",
       "      <td>-1.749593</td>\n",
       "      <td>-0.156003</td>\n",
       "      <td>2</td>\n",
       "      <td>2</td>\n",
       "      <td>2</td>\n",
       "      <td>2</td>\n",
       "    </tr>\n",
       "    <tr>\n",
       "      <th>1</th>\n",
       "      <td>1</td>\n",
       "      <td>0.368625</td>\n",
       "      <td>3.140500</td>\n",
       "      <td>1</td>\n",
       "      <td>1</td>\n",
       "      <td>1</td>\n",
       "      <td>1</td>\n",
       "    </tr>\n",
       "    <tr>\n",
       "      <th>2</th>\n",
       "      <td>2</td>\n",
       "      <td>-1.799280</td>\n",
       "      <td>0.049168</td>\n",
       "      <td>2</td>\n",
       "      <td>2</td>\n",
       "      <td>2</td>\n",
       "      <td>2</td>\n",
       "    </tr>\n",
       "    <tr>\n",
       "      <th>3</th>\n",
       "      <td>3</td>\n",
       "      <td>-0.177061</td>\n",
       "      <td>-3.735070</td>\n",
       "      <td>0</td>\n",
       "      <td>0</td>\n",
       "      <td>0</td>\n",
       "      <td>0</td>\n",
       "    </tr>\n",
       "    <tr>\n",
       "      <th>4</th>\n",
       "      <td>4</td>\n",
       "      <td>3.160910</td>\n",
       "      <td>3.202912</td>\n",
       "      <td>1</td>\n",
       "      <td>1</td>\n",
       "      <td>1</td>\n",
       "      <td>1</td>\n",
       "    </tr>\n",
       "    <tr>\n",
       "      <th>5</th>\n",
       "      <td>5</td>\n",
       "      <td>-3.264976</td>\n",
       "      <td>1.895905</td>\n",
       "      <td>2</td>\n",
       "      <td>2</td>\n",
       "      <td>2</td>\n",
       "      <td>2</td>\n",
       "    </tr>\n",
       "    <tr>\n",
       "      <th>6</th>\n",
       "      <td>6</td>\n",
       "      <td>-0.914822</td>\n",
       "      <td>-3.725331</td>\n",
       "      <td>0</td>\n",
       "      <td>0</td>\n",
       "      <td>0</td>\n",
       "      <td>0</td>\n",
       "    </tr>\n",
       "    <tr>\n",
       "      <th>7</th>\n",
       "      <td>7</td>\n",
       "      <td>2.097375</td>\n",
       "      <td>0.938554</td>\n",
       "      <td>1</td>\n",
       "      <td>1</td>\n",
       "      <td>1</td>\n",
       "      <td>1</td>\n",
       "    </tr>\n",
       "    <tr>\n",
       "      <th>8</th>\n",
       "      <td>8</td>\n",
       "      <td>0.006415</td>\n",
       "      <td>3.213170</td>\n",
       "      <td>1</td>\n",
       "      <td>1</td>\n",
       "      <td>1</td>\n",
       "      <td>1</td>\n",
       "    </tr>\n",
       "    <tr>\n",
       "      <th>9</th>\n",
       "      <td>9</td>\n",
       "      <td>-1.898791</td>\n",
       "      <td>4.079779</td>\n",
       "      <td>2</td>\n",
       "      <td>2</td>\n",
       "      <td>2</td>\n",
       "      <td>2</td>\n",
       "    </tr>\n",
       "    <tr>\n",
       "      <th>10</th>\n",
       "      <td>10</td>\n",
       "      <td>0.188479</td>\n",
       "      <td>3.181617</td>\n",
       "      <td>1</td>\n",
       "      <td>1</td>\n",
       "      <td>1</td>\n",
       "      <td>1</td>\n",
       "    </tr>\n",
       "    <tr>\n",
       "      <th>11</th>\n",
       "      <td>11</td>\n",
       "      <td>-0.768414</td>\n",
       "      <td>4.433908</td>\n",
       "      <td>2</td>\n",
       "      <td>2</td>\n",
       "      <td>1</td>\n",
       "      <td>1</td>\n",
       "    </tr>\n",
       "    <tr>\n",
       "      <th>12</th>\n",
       "      <td>12</td>\n",
       "      <td>-0.914822</td>\n",
       "      <td>3.225331</td>\n",
       "      <td>2</td>\n",
       "      <td>2</td>\n",
       "      <td>2</td>\n",
       "      <td>2</td>\n",
       "    </tr>\n",
       "    <tr>\n",
       "      <th>13</th>\n",
       "      <td>13</td>\n",
       "      <td>-0.863661</td>\n",
       "      <td>-1.297517</td>\n",
       "      <td>0</td>\n",
       "      <td>0</td>\n",
       "      <td>0</td>\n",
       "      <td>0</td>\n",
       "    </tr>\n",
       "    <tr>\n",
       "      <th>14</th>\n",
       "      <td>14</td>\n",
       "      <td>-3.653391</td>\n",
       "      <td>1.268593</td>\n",
       "      <td>2</td>\n",
       "      <td>2</td>\n",
       "      <td>2</td>\n",
       "      <td>2</td>\n",
       "    </tr>\n",
       "    <tr>\n",
       "      <th>15</th>\n",
       "      <td>15</td>\n",
       "      <td>-2.897597</td>\n",
       "      <td>3.442954</td>\n",
       "      <td>2</td>\n",
       "      <td>2</td>\n",
       "      <td>2</td>\n",
       "      <td>2</td>\n",
       "    </tr>\n",
       "    <tr>\n",
       "      <th>16</th>\n",
       "      <td>16</td>\n",
       "      <td>0.456047</td>\n",
       "      <td>-1.562287</td>\n",
       "      <td>0</td>\n",
       "      <td>0</td>\n",
       "      <td>0</td>\n",
       "      <td>0</td>\n",
       "    </tr>\n",
       "    <tr>\n",
       "      <th>17</th>\n",
       "      <td>17</td>\n",
       "      <td>1.713734</td>\n",
       "      <td>1.684177</td>\n",
       "      <td>1</td>\n",
       "      <td>1</td>\n",
       "      <td>1</td>\n",
       "      <td>1</td>\n",
       "    </tr>\n",
       "    <tr>\n",
       "      <th>18</th>\n",
       "      <td>18</td>\n",
       "      <td>-1.278823</td>\n",
       "      <td>-3.662248</td>\n",
       "      <td>0</td>\n",
       "      <td>0</td>\n",
       "      <td>0</td>\n",
       "      <td>0</td>\n",
       "    </tr>\n",
       "    <tr>\n",
       "      <th>19</th>\n",
       "      <td>19</td>\n",
       "      <td>2.419240</td>\n",
       "      <td>3.794375</td>\n",
       "      <td>1</td>\n",
       "      <td>1</td>\n",
       "      <td>1</td>\n",
       "      <td>1</td>\n",
       "    </tr>\n",
       "    <tr>\n",
       "      <th>20</th>\n",
       "      <td>20</td>\n",
       "      <td>1.058143</td>\n",
       "      <td>-1.373660</td>\n",
       "      <td>0</td>\n",
       "      <td>0</td>\n",
       "      <td>0</td>\n",
       "      <td>0</td>\n",
       "    </tr>\n",
       "    <tr>\n",
       "      <th>21</th>\n",
       "      <td>21</td>\n",
       "      <td>0.140267</td>\n",
       "      <td>2.416492</td>\n",
       "      <td>1</td>\n",
       "      <td>1</td>\n",
       "      <td>1</td>\n",
       "      <td>1</td>\n",
       "    </tr>\n",
       "    <tr>\n",
       "      <th>22</th>\n",
       "      <td>22</td>\n",
       "      <td>1.329386</td>\n",
       "      <td>2.043960</td>\n",
       "      <td>1</td>\n",
       "      <td>1</td>\n",
       "      <td>1</td>\n",
       "      <td>1</td>\n",
       "    </tr>\n",
       "    <tr>\n",
       "      <th>23</th>\n",
       "      <td>23</td>\n",
       "      <td>4.001408</td>\n",
       "      <td>2.058819</td>\n",
       "      <td>1</td>\n",
       "      <td>1</td>\n",
       "      <td>1</td>\n",
       "      <td>1</td>\n",
       "    </tr>\n",
       "    <tr>\n",
       "      <th>24</th>\n",
       "      <td>24</td>\n",
       "      <td>-0.677240</td>\n",
       "      <td>2.229902</td>\n",
       "      <td>2</td>\n",
       "      <td>2</td>\n",
       "      <td>2</td>\n",
       "      <td>2</td>\n",
       "    </tr>\n",
       "    <tr>\n",
       "      <th>25</th>\n",
       "      <td>25</td>\n",
       "      <td>-1.475833</td>\n",
       "      <td>-0.724471</td>\n",
       "      <td>2</td>\n",
       "      <td>2</td>\n",
       "      <td>2</td>\n",
       "      <td>2</td>\n",
       "    </tr>\n",
       "    <tr>\n",
       "      <th>26</th>\n",
       "      <td>26</td>\n",
       "      <td>-0.533342</td>\n",
       "      <td>4.468282</td>\n",
       "      <td>1</td>\n",
       "      <td>1</td>\n",
       "      <td>1</td>\n",
       "      <td>1</td>\n",
       "    </tr>\n",
       "    <tr>\n",
       "      <th>27</th>\n",
       "      <td>27</td>\n",
       "      <td>3.480901</td>\n",
       "      <td>-2.851899</td>\n",
       "      <td>0</td>\n",
       "      <td>0</td>\n",
       "      <td>0</td>\n",
       "      <td>0</td>\n",
       "    </tr>\n",
       "    <tr>\n",
       "      <th>28</th>\n",
       "      <td>28</td>\n",
       "      <td>2.005823</td>\n",
       "      <td>4.028235</td>\n",
       "      <td>1</td>\n",
       "      <td>1</td>\n",
       "      <td>1</td>\n",
       "      <td>1</td>\n",
       "    </tr>\n",
       "    <tr>\n",
       "      <th>29</th>\n",
       "      <td>29</td>\n",
       "      <td>4.276068</td>\n",
       "      <td>1.401870</td>\n",
       "      <td>1</td>\n",
       "      <td>1</td>\n",
       "      <td>1</td>\n",
       "      <td>1</td>\n",
       "    </tr>\n",
       "    <tr>\n",
       "      <th>30</th>\n",
       "      <td>30</td>\n",
       "      <td>-4.373576</td>\n",
       "      <td>-1.059166</td>\n",
       "      <td>2</td>\n",
       "      <td>2</td>\n",
       "      <td>2</td>\n",
       "      <td>2</td>\n",
       "    </tr>\n",
       "    <tr>\n",
       "      <th>31</th>\n",
       "      <td>31</td>\n",
       "      <td>-4.054360</td>\n",
       "      <td>-1.952477</td>\n",
       "      <td>2</td>\n",
       "      <td>2</td>\n",
       "      <td>2</td>\n",
       "      <td>2</td>\n",
       "    </tr>\n",
       "    <tr>\n",
       "      <th>32</th>\n",
       "      <td>32</td>\n",
       "      <td>2.878739</td>\n",
       "      <td>0.663302</td>\n",
       "      <td>1</td>\n",
       "      <td>1</td>\n",
       "      <td>1</td>\n",
       "      <td>1</td>\n",
       "    </tr>\n",
       "    <tr>\n",
       "      <th>33</th>\n",
       "      <td>33</td>\n",
       "      <td>4.104486</td>\n",
       "      <td>-1.844774</td>\n",
       "      <td>0</td>\n",
       "      <td>0</td>\n",
       "      <td>0</td>\n",
       "      <td>1</td>\n",
       "    </tr>\n",
       "    <tr>\n",
       "      <th>34</th>\n",
       "      <td>34</td>\n",
       "      <td>2.031611</td>\n",
       "      <td>1.139150</td>\n",
       "      <td>1</td>\n",
       "      <td>1</td>\n",
       "      <td>1</td>\n",
       "      <td>1</td>\n",
       "    </tr>\n",
       "    <tr>\n",
       "      <th>35</th>\n",
       "      <td>35</td>\n",
       "      <td>2.031611</td>\n",
       "      <td>-0.305817</td>\n",
       "      <td>1</td>\n",
       "      <td>1</td>\n",
       "      <td>1</td>\n",
       "      <td>1</td>\n",
       "    </tr>\n",
       "  </tbody>\n",
       "</table>\n",
       "</div>"
      ],
      "text/plain": [
       "    Unnamed: 0         0         1  0  1  2  3\n",
       "0            0 -1.749593 -0.156003  2  2  2  2\n",
       "1            1  0.368625  3.140500  1  1  1  1\n",
       "2            2 -1.799280  0.049168  2  2  2  2\n",
       "3            3 -0.177061 -3.735070  0  0  0  0\n",
       "4            4  3.160910  3.202912  1  1  1  1\n",
       "5            5 -3.264976  1.895905  2  2  2  2\n",
       "6            6 -0.914822 -3.725331  0  0  0  0\n",
       "7            7  2.097375  0.938554  1  1  1  1\n",
       "8            8  0.006415  3.213170  1  1  1  1\n",
       "9            9 -1.898791  4.079779  2  2  2  2\n",
       "10          10  0.188479  3.181617  1  1  1  1\n",
       "11          11 -0.768414  4.433908  2  2  1  1\n",
       "12          12 -0.914822  3.225331  2  2  2  2\n",
       "13          13 -0.863661 -1.297517  0  0  0  0\n",
       "14          14 -3.653391  1.268593  2  2  2  2\n",
       "15          15 -2.897597  3.442954  2  2  2  2\n",
       "16          16  0.456047 -1.562287  0  0  0  0\n",
       "17          17  1.713734  1.684177  1  1  1  1\n",
       "18          18 -1.278823 -3.662248  0  0  0  0\n",
       "19          19  2.419240  3.794375  1  1  1  1\n",
       "20          20  1.058143 -1.373660  0  0  0  0\n",
       "21          21  0.140267  2.416492  1  1  1  1\n",
       "22          22  1.329386  2.043960  1  1  1  1\n",
       "23          23  4.001408  2.058819  1  1  1  1\n",
       "24          24 -0.677240  2.229902  2  2  2  2\n",
       "25          25 -1.475833 -0.724471  2  2  2  2\n",
       "26          26 -0.533342  4.468282  1  1  1  1\n",
       "27          27  3.480901 -2.851899  0  0  0  0\n",
       "28          28  2.005823  4.028235  1  1  1  1\n",
       "29          29  4.276068  1.401870  1  1  1  1\n",
       "30          30 -4.373576 -1.059166  2  2  2  2\n",
       "31          31 -4.054360 -1.952477  2  2  2  2\n",
       "32          32  2.878739  0.663302  1  1  1  1\n",
       "33          33  4.104486 -1.844774  0  0  0  1\n",
       "34          34  2.031611  1.139150  1  1  1  1\n",
       "35          35  2.031611 -0.305817  1  1  1  1"
      ]
     },
     "execution_count": 32,
     "metadata": {},
     "output_type": "execute_result"
    }
   ],
   "source": [
    "result_test = pd.concat([df_test, C_Test_df], axis=1, join=\"inner\")\n",
    "result_test"
   ]
  },
  {
   "cell_type": "code",
   "execution_count": 33,
   "metadata": {
    "colab": {
     "base_uri": "https://localhost:8080/",
     "height": 299
    },
    "id": "ZHuoWY4LD1c0",
    "outputId": "4d59513d-ba11-42cd-ae59-b0acced5f904"
   },
   "outputs": [
    {
     "data": {
      "text/plain": [
       "Text(0.5, 1.0, 'Nearest_Neighbors = 1 ')"
      ]
     },
     "execution_count": 33,
     "metadata": {},
     "output_type": "execute_result"
    },
    {
     "data": {
      "image/png": "[encoded data removed]",
      "text/plain": [
       "<Figure size 432x288 with 1 Axes>"
      ]
     },
     "metadata": {
      "needs_background": "light"
     },
     "output_type": "display_data"
    }
   ],
   "source": [
    "plt.scatter(result_test['0'],result_test['1'],c=result_test[0])\n",
    "plt.title(\"Nearest_Neighbors = 1 \")"
   ]
  },
  {
   "cell_type": "code",
   "execution_count": 34,
   "metadata": {
    "colab": {
     "base_uri": "https://localhost:8080/",
     "height": 299
    },
    "id": "BVmTUcYED1f_",
    "outputId": "1b2ead9e-c504-4429-f806-c1cf79ddf5b9"
   },
   "outputs": [
    {
     "data": {
      "text/plain": [
       "Text(0.5, 1.0, 'Nearest_Neighbors = 5 ')"
      ]
     },
     "execution_count": 34,
     "metadata": {},
     "output_type": "execute_result"
    },
    {
     "data": {
      "image/png": "[encoded data removed]",
      "text/plain": [
       "<Figure size 432x288 with 1 Axes>"
      ]
     },
     "metadata": {
      "needs_background": "light"
     },
     "output_type": "display_data"
    }
   ],
   "source": [
    "plt.scatter(result_test['0'],result_test['1'],c=result_test[1])\n",
    "plt.title(\"Nearest_Neighbors = 5 \")"
   ]
  },
  {
   "cell_type": "code",
   "execution_count": 35,
   "metadata": {
    "colab": {
     "base_uri": "https://localhost:8080/",
     "height": 299
    },
    "id": "2z-kGqgTD1jD",
    "outputId": "072c0075-aa0c-4bd8-c128-0d46a9374363"
   },
   "outputs": [
    {
     "data": {
      "text/plain": [
       "Text(0.5, 1.0, 'Nearest_Neighbors = 10 ')"
      ]
     },
     "execution_count": 35,
     "metadata": {},
     "output_type": "execute_result"
    },
    {
     "data": {
      "image/png": "[encoded data removed]",
      "text/plain": [
       "<Figure size 432x288 with 1 Axes>"
      ]
     },
     "metadata": {
      "needs_background": "light"
     },
     "output_type": "display_data"
    }
   ],
   "source": [
    "plt.scatter(result_test['0'],result_test['1'],c=result_test[2])\n",
    "plt.title(\"Nearest_Neighbors = 10 \")"
   ]
  },
  {
   "cell_type": "code",
   "execution_count": 36,
   "metadata": {
    "colab": {
     "base_uri": "https://localhost:8080/",
     "height": 299
    },
    "id": "LE4OeA7BD1mE",
    "outputId": "dfbc0a13-a79f-4204-e861-785334be7b49"
   },
   "outputs": [
    {
     "data": {
      "text/plain": [
       "Text(0.5, 1.0, 'Nearest_Neighbors = 20 ')"
      ]
     },
     "execution_count": 36,
     "metadata": {},
     "output_type": "execute_result"
    },
    {
     "data": {
      "image/png": "[encoded data removed]",
      "text/plain": [
       "<Figure size 432x288 with 1 Axes>"
      ]
     },
     "metadata": {
      "needs_background": "light"
     },
     "output_type": "display_data"
    }
   ],
   "source": [
    "plt.scatter(result_test['0'],result_test['1'],c=result_test[3])\n",
    "plt.title(\"Nearest_Neighbors = 20 \")"
   ]
  },
  {
   "cell_type": "markdown",
   "metadata": {
    "id": "Et2ucLz6W_tx"
   },
   "source": [
    "**Explanation:** k-means clustering aims to partition n observations into k clusters in which each observation belongs to the cluster with the nearest mean\n",
    "\n",
    "Three concentric circles would have the exact same mean, so k-means is not suitable to separate them. The result is not really what you should expect here.\n",
    "\n",
    "Now, if you know that your clusters will always be concentric circles, you can simply convert your cartesian (x-y) coordinates to polar coordinates, and use only the radius rho for clustering - as you know that the angle theta doesn't matter"
   ]
  },
  {
   "cell_type": "markdown",
   "metadata": {
    "id": "cVarA2kgV2dA"
   },
   "source": [
    "# Task 2: New Training Data\n",
    "Perform feature engineering to make a new traning data set so it can train KMeans cluster so it can cluster each circle. Explain the workflow. Remember that EDA is not necessary. "
   ]
  },
  {
   "cell_type": "markdown",
   "metadata": {
    "id": "hkFV4CGJWP_0"
   },
   "source": [
    "## Principal Component Analysis (PCA)"
   ]
  },
  {
   "cell_type": "code",
   "execution_count": 37,
   "metadata": {
    "colab": {
     "base_uri": "https://localhost:8080/",
     "height": 423
    },
    "id": "UUc0yES8xlON",
    "outputId": "57f6ba6d-af36-45f6-82f3-d4ff2685201a"
   },
   "outputs": [
    {
     "data": {
      "text/html": [
       "<div>\n",
       "<style scoped>\n",
       "    .dataframe tbody tr th:only-of-type {\n",
       "        vertical-align: middle;\n",
       "    }\n",
       "\n",
       "    .dataframe tbody tr th {\n",
       "        vertical-align: top;\n",
       "    }\n",
       "\n",
       "    .dataframe thead th {\n",
       "        text-align: right;\n",
       "    }\n",
       "</style>\n",
       "<table border=\"1\" class=\"dataframe\">\n",
       "  <thead>\n",
       "    <tr style=\"text-align: right;\">\n",
       "      <th></th>\n",
       "      <th>0</th>\n",
       "      <th>1</th>\n",
       "    </tr>\n",
       "  </thead>\n",
       "  <tbody>\n",
       "    <tr>\n",
       "      <th>0</th>\n",
       "      <td>1.990883</td>\n",
       "      <td>-0.403233</td>\n",
       "    </tr>\n",
       "    <tr>\n",
       "      <th>1</th>\n",
       "      <td>-3.853454</td>\n",
       "      <td>-1.252172</td>\n",
       "    </tr>\n",
       "    <tr>\n",
       "      <th>2</th>\n",
       "      <td>3.887177</td>\n",
       "      <td>2.267125</td>\n",
       "    </tr>\n",
       "    <tr>\n",
       "      <th>3</th>\n",
       "      <td>-3.475760</td>\n",
       "      <td>1.592513</td>\n",
       "    </tr>\n",
       "    <tr>\n",
       "      <th>4</th>\n",
       "      <td>0.663024</td>\n",
       "      <td>-1.520762</td>\n",
       "    </tr>\n",
       "    <tr>\n",
       "      <th>...</th>\n",
       "      <td>...</td>\n",
       "      <td>...</td>\n",
       "    </tr>\n",
       "    <tr>\n",
       "      <th>319</th>\n",
       "      <td>-3.969552</td>\n",
       "      <td>0.210658</td>\n",
       "    </tr>\n",
       "    <tr>\n",
       "      <th>320</th>\n",
       "      <td>-1.231483</td>\n",
       "      <td>4.328215</td>\n",
       "    </tr>\n",
       "    <tr>\n",
       "      <th>321</th>\n",
       "      <td>-0.380659</td>\n",
       "      <td>2.340318</td>\n",
       "    </tr>\n",
       "    <tr>\n",
       "      <th>322</th>\n",
       "      <td>2.005823</td>\n",
       "      <td>-4.028235</td>\n",
       "    </tr>\n",
       "    <tr>\n",
       "      <th>323</th>\n",
       "      <td>0.546349</td>\n",
       "      <td>-3.589933</td>\n",
       "    </tr>\n",
       "  </tbody>\n",
       "</table>\n",
       "<p>324 rows × 2 columns</p>\n",
       "</div>"
      ],
      "text/plain": [
       "            0         1\n",
       "0    1.990883 -0.403233\n",
       "1   -3.853454 -1.252172\n",
       "2    3.887177  2.267125\n",
       "3   -3.475760  1.592513\n",
       "4    0.663024 -1.520762\n",
       "..        ...       ...\n",
       "319 -3.969552  0.210658\n",
       "320 -1.231483  4.328215\n",
       "321 -0.380659  2.340318\n",
       "322  2.005823 -4.028235\n",
       "323  0.546349 -3.589933\n",
       "\n",
       "[324 rows x 2 columns]"
      ]
     },
     "execution_count": 37,
     "metadata": {},
     "output_type": "execute_result"
    }
   ],
   "source": [
    "df_train = x_train[['0','1']]\n",
    "df_train"
   ]
  },
  {
   "cell_type": "code",
   "execution_count": 38,
   "metadata": {
    "id": "XnakUNg-fnag"
   },
   "outputs": [],
   "source": [
    "from sklearn.decomposition import PCA"
   ]
  },
  {
   "cell_type": "code",
   "execution_count": 39,
   "metadata": {
    "colab": {
     "base_uri": "https://localhost:8080/",
     "height": 459
    },
    "id": "I2vxpDI0D12Y",
    "outputId": "6a42738e-c71c-4703-884e-6e887c492d1d"
   },
   "outputs": [
    {
     "name": "stdout",
     "output_type": "stream",
     "text": [
      "original shape:    (324, 2)\n",
      "transformed shape: (324, 2)\n"
     ]
    },
    {
     "data": {
      "text/html": [
       "<div>\n",
       "<style scoped>\n",
       "    .dataframe tbody tr th:only-of-type {\n",
       "        vertical-align: middle;\n",
       "    }\n",
       "\n",
       "    .dataframe tbody tr th {\n",
       "        vertical-align: top;\n",
       "    }\n",
       "\n",
       "    .dataframe thead th {\n",
       "        text-align: right;\n",
       "    }\n",
       "</style>\n",
       "<table border=\"1\" class=\"dataframe\">\n",
       "  <thead>\n",
       "    <tr style=\"text-align: right;\">\n",
       "      <th></th>\n",
       "      <th>0</th>\n",
       "      <th>1</th>\n",
       "    </tr>\n",
       "  </thead>\n",
       "  <tbody>\n",
       "    <tr>\n",
       "      <th>0</th>\n",
       "      <td>2.096144</td>\n",
       "      <td>-0.400775</td>\n",
       "    </tr>\n",
       "    <tr>\n",
       "      <th>1</th>\n",
       "      <td>-3.763296</td>\n",
       "      <td>-1.138290</td>\n",
       "    </tr>\n",
       "    <tr>\n",
       "      <th>2</th>\n",
       "      <td>4.042935</td>\n",
       "      <td>2.232996</td>\n",
       "    </tr>\n",
       "    <tr>\n",
       "      <th>3</th>\n",
       "      <td>-3.331511</td>\n",
       "      <td>1.698688</td>\n",
       "    </tr>\n",
       "    <tr>\n",
       "      <th>4</th>\n",
       "      <td>0.747249</td>\n",
       "      <td>-1.492820</td>\n",
       "    </tr>\n",
       "    <tr>\n",
       "      <th>...</th>\n",
       "      <td>...</td>\n",
       "      <td>...</td>\n",
       "    </tr>\n",
       "    <tr>\n",
       "      <th>319</th>\n",
       "      <td>-3.851523</td>\n",
       "      <td>0.326485</td>\n",
       "    </tr>\n",
       "    <tr>\n",
       "      <th>320</th>\n",
       "      <td>-1.035557</td>\n",
       "      <td>4.391166</td>\n",
       "    </tr>\n",
       "    <tr>\n",
       "      <th>321</th>\n",
       "      <td>-0.222734</td>\n",
       "      <td>2.387430</td>\n",
       "    </tr>\n",
       "    <tr>\n",
       "      <th>322</th>\n",
       "      <td>2.042065</td>\n",
       "      <td>-4.025404</td>\n",
       "    </tr>\n",
       "    <tr>\n",
       "      <th>323</th>\n",
       "      <td>0.591201</td>\n",
       "      <td>-3.559395</td>\n",
       "    </tr>\n",
       "  </tbody>\n",
       "</table>\n",
       "<p>324 rows × 2 columns</p>\n",
       "</div>"
      ],
      "text/plain": [
       "            0         1\n",
       "0    2.096144 -0.400775\n",
       "1   -3.763296 -1.138290\n",
       "2    4.042935  2.232996\n",
       "3   -3.331511  1.698688\n",
       "4    0.747249 -1.492820\n",
       "..        ...       ...\n",
       "319 -3.851523  0.326485\n",
       "320 -1.035557  4.391166\n",
       "321 -0.222734  2.387430\n",
       "322  2.042065 -4.025404\n",
       "323  0.591201 -3.559395\n",
       "\n",
       "[324 rows x 2 columns]"
      ]
     },
     "execution_count": 39,
     "metadata": {},
     "output_type": "execute_result"
    }
   ],
   "source": [
    "pca = PCA(n_components=2)\n",
    "pca.fit(df_train)\n",
    "X_pca = pca.transform(df_train)\n",
    "print(\"original shape:   \", df_train.shape)\n",
    "print(\"transformed shape:\", X_pca.shape)\n",
    "X_pca_df = pd. DataFrame(X_pca)\n",
    "X_pca_df"
   ]
  },
  {
   "cell_type": "markdown",
   "metadata": {
    "id": "Z4F2CQ_R7HG4"
   },
   "source": [
    "## LDA "
   ]
  },
  {
   "cell_type": "code",
   "execution_count": 40,
   "metadata": {
    "id": "bV_Opwjx7I7f"
   },
   "outputs": [],
   "source": [
    "x_lda = x.iloc[:, 0:2].values\n",
    "y_lda = x.iloc[:, 2:3].values"
   ]
  },
  {
   "cell_type": "code",
   "execution_count": 41,
   "metadata": {
    "id": "i2R4KH6X7I-E"
   },
   "outputs": [],
   "source": [
    "sc = StandardScaler()\n",
    "x_train_lda = sc.fit_transform(x_lda)\n",
    "x_test_lda = sc.transform(x_test)"
   ]
  },
  {
   "cell_type": "code",
   "execution_count": 42,
   "metadata": {
    "id": "SQb4B8q-7JAz"
   },
   "outputs": [],
   "source": [
    "from sklearn.discriminant_analysis import LinearDiscriminantAnalysis as LDA\n",
    "\n",
    "lda = LDA(n_components=2)\n",
    "X_train = lda.fit_transform(x_train_lda, y_lda)\n",
    "X_test = lda.transform(x_test_lda)\n"
   ]
  },
  {
   "cell_type": "code",
   "execution_count": 43,
   "metadata": {
    "colab": {
     "base_uri": "https://localhost:8080/",
     "height": 423
    },
    "id": "T56EW7C29kxK",
    "outputId": "56744f3e-9773-4fb1-d75d-9b6c90458355"
   },
   "outputs": [
    {
     "data": {
      "text/html": [
       "<div>\n",
       "<style scoped>\n",
       "    .dataframe tbody tr th:only-of-type {\n",
       "        vertical-align: middle;\n",
       "    }\n",
       "\n",
       "    .dataframe tbody tr th {\n",
       "        vertical-align: top;\n",
       "    }\n",
       "\n",
       "    .dataframe thead th {\n",
       "        text-align: right;\n",
       "    }\n",
       "</style>\n",
       "<table border=\"1\" class=\"dataframe\">\n",
       "  <thead>\n",
       "    <tr style=\"text-align: right;\">\n",
       "      <th></th>\n",
       "      <th>0</th>\n",
       "      <th>1</th>\n",
       "    </tr>\n",
       "  </thead>\n",
       "  <tbody>\n",
       "    <tr>\n",
       "      <th>0</th>\n",
       "      <td>-1.395703</td>\n",
       "      <td>-0.071513</td>\n",
       "    </tr>\n",
       "    <tr>\n",
       "      <th>1</th>\n",
       "      <td>2.204545</td>\n",
       "      <td>1.313019</td>\n",
       "    </tr>\n",
       "    <tr>\n",
       "      <th>2</th>\n",
       "      <td>-2.204580</td>\n",
       "      <td>-2.054685</td>\n",
       "    </tr>\n",
       "    <tr>\n",
       "      <th>3</th>\n",
       "      <td>2.390406</td>\n",
       "      <td>-0.563339</td>\n",
       "    </tr>\n",
       "    <tr>\n",
       "      <th>4</th>\n",
       "      <td>-0.716426</td>\n",
       "      <td>0.835295</td>\n",
       "    </tr>\n",
       "    <tr>\n",
       "      <th>...</th>\n",
       "      <td>...</td>\n",
       "      <td>...</td>\n",
       "    </tr>\n",
       "    <tr>\n",
       "      <th>319</th>\n",
       "      <td>2.498048</td>\n",
       "      <td>0.392777</td>\n",
       "    </tr>\n",
       "    <tr>\n",
       "      <th>320</th>\n",
       "      <td>1.369382</td>\n",
       "      <td>-2.638427</td>\n",
       "    </tr>\n",
       "    <tr>\n",
       "      <th>321</th>\n",
       "      <td>0.528490</td>\n",
       "      <td>-1.487580</td>\n",
       "    </tr>\n",
       "    <tr>\n",
       "      <th>322</th>\n",
       "      <td>-1.949054</td>\n",
       "      <td>2.248153</td>\n",
       "    </tr>\n",
       "    <tr>\n",
       "      <th>323</th>\n",
       "      <td>-0.952426</td>\n",
       "      <td>2.177385</td>\n",
       "    </tr>\n",
       "  </tbody>\n",
       "</table>\n",
       "<p>324 rows × 2 columns</p>\n",
       "</div>"
      ],
      "text/plain": [
       "            0         1\n",
       "0   -1.395703 -0.071513\n",
       "1    2.204545  1.313019\n",
       "2   -2.204580 -2.054685\n",
       "3    2.390406 -0.563339\n",
       "4   -0.716426  0.835295\n",
       "..        ...       ...\n",
       "319  2.498048  0.392777\n",
       "320  1.369382 -2.638427\n",
       "321  0.528490 -1.487580\n",
       "322 -1.949054  2.248153\n",
       "323 -0.952426  2.177385\n",
       "\n",
       "[324 rows x 2 columns]"
      ]
     },
     "execution_count": 43,
     "metadata": {},
     "output_type": "execute_result"
    }
   ],
   "source": [
    "lda_df = pd.DataFrame(X_train)\n",
    "lda_df"
   ]
  },
  {
   "cell_type": "code",
   "execution_count": 44,
   "metadata": {
    "colab": {
     "base_uri": "https://localhost:8080/"
    },
    "id": "kkbg-_NTD15g",
    "outputId": "e63148d5-e2fe-4db2-df8a-787da4a37e89"
   },
   "outputs": [
    {
     "data": {
      "text/plain": [
       "KMeans(n_clusters=3)"
      ]
     },
     "execution_count": 44,
     "metadata": {},
     "output_type": "execute_result"
    }
   ],
   "source": [
    "kmeans = KMeans(3)\n",
    "kmeans.fit(lda_df)"
   ]
  },
  {
   "cell_type": "code",
   "execution_count": 45,
   "metadata": {
    "colab": {
     "base_uri": "https://localhost:8080/"
    },
    "id": "cOPjnHKrD18q",
    "outputId": "426894ad-272d-419f-cb5d-1b2757935f79"
   },
   "outputs": [
    {
     "data": {
      "text/plain": [
       "array([1, 0, 1, 0, 2, 1, 2, 1, 0, 2, 0, 2, 2, 2, 2, 0, 0, 1, 2, 2, 0, 1,\n",
       "       1, 2, 1, 0, 2, 2, 1, 1, 0, 1, 0, 0, 1, 2, 2, 2, 2, 2, 1, 2, 2, 2,\n",
       "       1, 0, 0, 0, 2, 2, 0, 0, 1, 1, 2, 0, 1, 1, 1, 0, 1, 0, 0, 2, 0, 1,\n",
       "       0, 1, 1, 2, 1, 0, 0, 2, 0, 1, 2, 1, 0, 1, 1, 2, 1, 2, 2, 2, 1, 1,\n",
       "       0, 2, 2, 1, 2, 0, 1, 1, 2, 2, 2, 1, 2, 1, 1, 0, 2, 1, 1, 2, 1, 0,\n",
       "       1, 2, 0, 0, 2, 2, 0, 1, 0, 2, 1, 1, 0, 1, 1, 0, 1, 0, 1, 2, 0, 0,\n",
       "       2, 1, 2, 1, 2, 1, 1, 2, 0, 2, 1, 1, 1, 1, 0, 0, 1, 0, 1, 2, 0, 1,\n",
       "       1, 1, 2, 0, 2, 0, 1, 2, 1, 2, 0, 0, 0, 0, 1, 0, 2, 2, 1, 1, 0, 2,\n",
       "       0, 0, 2, 1, 2, 2, 1, 0, 0, 1, 2, 0, 2, 2, 1, 2, 1, 1, 2, 2, 0, 2,\n",
       "       1, 2, 0, 1, 1, 0, 0, 0, 0, 0, 1, 1, 2, 0, 0, 2, 2, 0, 2, 0, 0, 0,\n",
       "       2, 1, 1, 0, 1, 0, 1, 2, 0, 1, 0, 2, 0, 0, 0, 1, 1, 2, 2, 1, 2, 0,\n",
       "       2, 0, 0, 2, 1, 1, 2, 2, 0, 2, 1, 1, 1, 2, 1, 0, 2, 0, 2, 0, 1, 1,\n",
       "       1, 0, 1, 0, 1, 0, 1, 0, 2, 1, 1, 1, 0, 1, 1, 1, 1, 0, 0, 0, 0, 1,\n",
       "       0, 2, 0, 0, 2, 1, 2, 2, 0, 1, 2, 0, 1, 0, 1, 1, 0, 0, 0, 2, 1, 2,\n",
       "       1, 2, 0, 0, 2, 1, 1, 0, 2, 1, 2, 0, 0, 0, 2, 2], dtype=int32)"
      ]
     },
     "execution_count": 45,
     "metadata": {},
     "output_type": "execute_result"
    }
   ],
   "source": [
    "identified_clusters1 = kmeans.fit_predict(lda_df)\n",
    "identified_clusters1"
   ]
  },
  {
   "cell_type": "code",
   "execution_count": 46,
   "metadata": {
    "colab": {
     "base_uri": "https://localhost:8080/",
     "height": 283
    },
    "id": "fyD4n6S9D2AH",
    "outputId": "47ec33e9-012c-4409-beb0-bad7596efa05"
   },
   "outputs": [
    {
     "data": {
      "text/plain": [
       "<matplotlib.collections.PathCollection at 0x7f97404f38b0>"
      ]
     },
     "execution_count": 46,
     "metadata": {},
     "output_type": "execute_result"
    },
    {
     "data": {
      "image/png": "[encoded data removed]",
      "text/plain": [
       "<Figure size 432x288 with 1 Axes>"
      ]
     },
     "metadata": {
      "needs_background": "light"
     },
     "output_type": "display_data"
    }
   ],
   "source": [
    "data_with_clusters = lda_df.copy()\n",
    "data_with_clusters['Clusters'] = identified_clusters1 \n",
    "plt.scatter(data_with_clusters[0],data_with_clusters[1],c=data_with_clusters['Clusters'])"
   ]
  },
  {
   "cell_type": "code",
   "execution_count": 47,
   "metadata": {
    "colab": {
     "base_uri": "https://localhost:8080/",
     "height": 423
    },
    "id": "r1Xknpxrygco",
    "outputId": "83ba1f7e-fa73-44af-b051-9ec71a407272"
   },
   "outputs": [
    {
     "data": {
      "text/html": [
       "<div>\n",
       "<style scoped>\n",
       "    .dataframe tbody tr th:only-of-type {\n",
       "        vertical-align: middle;\n",
       "    }\n",
       "\n",
       "    .dataframe tbody tr th {\n",
       "        vertical-align: top;\n",
       "    }\n",
       "\n",
       "    .dataframe thead th {\n",
       "        text-align: right;\n",
       "    }\n",
       "</style>\n",
       "<table border=\"1\" class=\"dataframe\">\n",
       "  <thead>\n",
       "    <tr style=\"text-align: right;\">\n",
       "      <th></th>\n",
       "      <th>0</th>\n",
       "      <th>1</th>\n",
       "      <th>Clusters</th>\n",
       "    </tr>\n",
       "  </thead>\n",
       "  <tbody>\n",
       "    <tr>\n",
       "      <th>0</th>\n",
       "      <td>-1.395703</td>\n",
       "      <td>-0.071513</td>\n",
       "      <td>1</td>\n",
       "    </tr>\n",
       "    <tr>\n",
       "      <th>1</th>\n",
       "      <td>2.204545</td>\n",
       "      <td>1.313019</td>\n",
       "      <td>0</td>\n",
       "    </tr>\n",
       "    <tr>\n",
       "      <th>2</th>\n",
       "      <td>-2.204580</td>\n",
       "      <td>-2.054685</td>\n",
       "      <td>1</td>\n",
       "    </tr>\n",
       "    <tr>\n",
       "      <th>3</th>\n",
       "      <td>2.390406</td>\n",
       "      <td>-0.563339</td>\n",
       "      <td>0</td>\n",
       "    </tr>\n",
       "    <tr>\n",
       "      <th>4</th>\n",
       "      <td>-0.716426</td>\n",
       "      <td>0.835295</td>\n",
       "      <td>2</td>\n",
       "    </tr>\n",
       "    <tr>\n",
       "      <th>...</th>\n",
       "      <td>...</td>\n",
       "      <td>...</td>\n",
       "      <td>...</td>\n",
       "    </tr>\n",
       "    <tr>\n",
       "      <th>319</th>\n",
       "      <td>2.498048</td>\n",
       "      <td>0.392777</td>\n",
       "      <td>0</td>\n",
       "    </tr>\n",
       "    <tr>\n",
       "      <th>320</th>\n",
       "      <td>1.369382</td>\n",
       "      <td>-2.638427</td>\n",
       "      <td>0</td>\n",
       "    </tr>\n",
       "    <tr>\n",
       "      <th>321</th>\n",
       "      <td>0.528490</td>\n",
       "      <td>-1.487580</td>\n",
       "      <td>0</td>\n",
       "    </tr>\n",
       "    <tr>\n",
       "      <th>322</th>\n",
       "      <td>-1.949054</td>\n",
       "      <td>2.248153</td>\n",
       "      <td>2</td>\n",
       "    </tr>\n",
       "    <tr>\n",
       "      <th>323</th>\n",
       "      <td>-0.952426</td>\n",
       "      <td>2.177385</td>\n",
       "      <td>2</td>\n",
       "    </tr>\n",
       "  </tbody>\n",
       "</table>\n",
       "<p>324 rows × 3 columns</p>\n",
       "</div>"
      ],
      "text/plain": [
       "            0         1  Clusters\n",
       "0   -1.395703 -0.071513         1\n",
       "1    2.204545  1.313019         0\n",
       "2   -2.204580 -2.054685         1\n",
       "3    2.390406 -0.563339         0\n",
       "4   -0.716426  0.835295         2\n",
       "..        ...       ...       ...\n",
       "319  2.498048  0.392777         0\n",
       "320  1.369382 -2.638427         0\n",
       "321  0.528490 -1.487580         0\n",
       "322 -1.949054  2.248153         2\n",
       "323 -0.952426  2.177385         2\n",
       "\n",
       "[324 rows x 3 columns]"
      ]
     },
     "execution_count": 47,
     "metadata": {},
     "output_type": "execute_result"
    }
   ],
   "source": [
    "data_with_clusters"
   ]
  },
  {
   "cell_type": "markdown",
   "metadata": {},
   "source": [
    "## Workflow: \n",
    "- Performed the Principal Component Analysis (PCA) and LDA on the training dataset to perform feature engineering as per mentioned in the question. Initially, I performed the PCA and get the desire output. For LDA, I standardize the dataset and performed LDA on it."
   ]
  },
  {
   "cell_type": "markdown",
   "metadata": {
    "id": "MSsQOKwFWVHp"
   },
   "source": [
    "# Task 3: Re-cluster using the new training set.\n",
    "Do the clustering again and observe if each circle its owns cluster ID.  Evaluate the feature engineering work. "
   ]
  },
  {
   "cell_type": "code",
   "execution_count": 48,
   "metadata": {
    "id": "wtKSHE5TzhKx"
   },
   "outputs": [],
   "source": [
    "from sklearn.cluster import SpectralClustering\n",
    "from sklearn.preprocessing import StandardScaler, normalize\n",
    "from sklearn.decomposition import PCA\n",
    "from sklearn.metrics import silhouette_score\n",
    "import seaborn as sns"
   ]
  },
  {
   "cell_type": "code",
   "execution_count": 49,
   "metadata": {
    "colab": {
     "base_uri": "https://localhost:8080/",
     "height": 423
    },
    "id": "DLS9TC82Ct1Y",
    "outputId": "d34719af-58fe-4117-dbe6-7fafe9baf572"
   },
   "outputs": [
    {
     "data": {
      "text/html": [
       "<div>\n",
       "<style scoped>\n",
       "    .dataframe tbody tr th:only-of-type {\n",
       "        vertical-align: middle;\n",
       "    }\n",
       "\n",
       "    .dataframe tbody tr th {\n",
       "        vertical-align: top;\n",
       "    }\n",
       "\n",
       "    .dataframe thead th {\n",
       "        text-align: right;\n",
       "    }\n",
       "</style>\n",
       "<table border=\"1\" class=\"dataframe\">\n",
       "  <thead>\n",
       "    <tr style=\"text-align: right;\">\n",
       "      <th></th>\n",
       "      <th>0</th>\n",
       "      <th>1</th>\n",
       "      <th>identified_clusters</th>\n",
       "    </tr>\n",
       "  </thead>\n",
       "  <tbody>\n",
       "    <tr>\n",
       "      <th>0</th>\n",
       "      <td>1.990883</td>\n",
       "      <td>-0.403233</td>\n",
       "      <td>1</td>\n",
       "    </tr>\n",
       "    <tr>\n",
       "      <th>1</th>\n",
       "      <td>-3.853454</td>\n",
       "      <td>-1.252172</td>\n",
       "      <td>2</td>\n",
       "    </tr>\n",
       "    <tr>\n",
       "      <th>2</th>\n",
       "      <td>3.887177</td>\n",
       "      <td>2.267125</td>\n",
       "      <td>1</td>\n",
       "    </tr>\n",
       "    <tr>\n",
       "      <th>3</th>\n",
       "      <td>-3.475760</td>\n",
       "      <td>1.592513</td>\n",
       "      <td>2</td>\n",
       "    </tr>\n",
       "    <tr>\n",
       "      <th>4</th>\n",
       "      <td>0.663024</td>\n",
       "      <td>-1.520762</td>\n",
       "      <td>0</td>\n",
       "    </tr>\n",
       "    <tr>\n",
       "      <th>...</th>\n",
       "      <td>...</td>\n",
       "      <td>...</td>\n",
       "      <td>...</td>\n",
       "    </tr>\n",
       "    <tr>\n",
       "      <th>319</th>\n",
       "      <td>-3.969552</td>\n",
       "      <td>0.210658</td>\n",
       "      <td>2</td>\n",
       "    </tr>\n",
       "    <tr>\n",
       "      <th>320</th>\n",
       "      <td>-1.231483</td>\n",
       "      <td>4.328215</td>\n",
       "      <td>2</td>\n",
       "    </tr>\n",
       "    <tr>\n",
       "      <th>321</th>\n",
       "      <td>-0.380659</td>\n",
       "      <td>2.340318</td>\n",
       "      <td>2</td>\n",
       "    </tr>\n",
       "    <tr>\n",
       "      <th>322</th>\n",
       "      <td>2.005823</td>\n",
       "      <td>-4.028235</td>\n",
       "      <td>0</td>\n",
       "    </tr>\n",
       "    <tr>\n",
       "      <th>323</th>\n",
       "      <td>0.546349</td>\n",
       "      <td>-3.589933</td>\n",
       "      <td>0</td>\n",
       "    </tr>\n",
       "  </tbody>\n",
       "</table>\n",
       "<p>324 rows × 3 columns</p>\n",
       "</div>"
      ],
      "text/plain": [
       "            0         1  identified_clusters\n",
       "0    1.990883 -0.403233                    1\n",
       "1   -3.853454 -1.252172                    2\n",
       "2    3.887177  2.267125                    1\n",
       "3   -3.475760  1.592513                    2\n",
       "4    0.663024 -1.520762                    0\n",
       "..        ...       ...                  ...\n",
       "319 -3.969552  0.210658                    2\n",
       "320 -1.231483  4.328215                    2\n",
       "321 -0.380659  2.340318                    2\n",
       "322  2.005823 -4.028235                    0\n",
       "323  0.546349 -3.589933                    0\n",
       "\n",
       "[324 rows x 3 columns]"
      ]
     },
     "execution_count": 49,
     "metadata": {},
     "output_type": "execute_result"
    }
   ],
   "source": [
    "x"
   ]
  },
  {
   "cell_type": "code",
   "execution_count": 50,
   "metadata": {
    "colab": {
     "base_uri": "https://localhost:8080/",
     "height": 473
    },
    "id": "yyJpUIbK48ED",
    "outputId": "04043283-bffd-48cd-c156-e4d3190bd6f4"
   },
   "outputs": [
    {
     "name": "stdout",
     "output_type": "stream",
     "text": [
      "[1 2 0 2 1 1 2 2 0 2 1 0 2 0 2 1 1 2 1 1 0 1 2 0 0 1 1 1 1 2 1 0 2 1 1 2 2\n",
      " 1 1 2 1 0 1 2 2 0 2 0 2 2 1 2 0 2 2 2 2 0 2 1 2 1 1 0 1 2 2 2 0 2 1 1 1 2\n",
      " 2 2 2 0 2 2 2 2 1 2 2 1 1 2 2 2 2 2 2 2 2 1 0 1 2 1 2 1 1 0 2 0 1 2 0 0 0\n",
      " 1 0 2 2 2 1 0 0 2 0 1 1 0 1 2 0 1 0 2 1 2 2 0 1 0 2 1 0 2 2 1 2 1 1 2 0 2\n",
      " 1 2 2 2 2 1 1 0 2 1 1 0 1 2 1 0 2 0 1 1 1 2 2 2 1 2 1 1 2 0 1 2 0 2 1 0 1\n",
      " 0 1 1 2 2 0 1 2 2 2 2 2 2 0 1 2 1 1 1 2 0 1 1 0 0 0 2 2 2 1 1 2 0 0 2 2 1\n",
      " 0 0 2 1 2 0 0 0 2 2 0 1 2 0 1 2 2 1 2 2 2 2 0 2 2 2 1 2 1 2 2 0 2 2 1 0 0\n",
      " 0 1 2 1 1 1 1 0 1 0 2 1 2 1 1 0 0 1 1 2 2 0 1 0 2 2 0 0 1 2 2 2 1 2 0 1 0\n",
      " 0 2 1 0 1 0 2 1 0 0 2 1 2 1 2 2 2 1 2 2 2 1 2 2 0 1 0 2]\n"
     ]
    },
    {
     "data": {
      "text/plain": [
       "[Text(0.5, 1.0, 'Spectral Clustering')]"
      ]
     },
     "execution_count": 50,
     "metadata": {},
     "output_type": "execute_result"
    },
    {
     "data": {
      "image/png": "[encoded data removed]",
      "text/plain": [
       "<Figure size 432x288 with 1 Axes>"
      ]
     },
     "metadata": {
      "needs_background": "light"
     },
     "output_type": "display_data"
    }
   ],
   "source": [
    "spec_cl = SpectralClustering(n_clusters=3,n_neighbors=5, affinity='nearest_neighbors')\n",
    "cluster_x = spec_cl.fit_predict(df_train)\n",
    "print(cluster_x)\n",
    "cluster = ['k-means_c_' + str(c) for c in cluster_x]\n",
    "\n",
    "fig, ax = plt.subplots()\n",
    "sns.scatterplot(x='0', y='1', data=df_train.assign(cluster = cluster), hue='cluster', ax=ax)\n",
    "ax.set(title='Spectral Clustering')"
   ]
  },
  {
   "cell_type": "code",
   "execution_count": 51,
   "metadata": {
    "colab": {
     "base_uri": "https://localhost:8080/",
     "height": 313
    },
    "id": "SDAX3a2jHD6x",
    "outputId": "a1362306-7a2c-42b5-8a17-0fbdf94d36f4"
   },
   "outputs": [
    {
     "data": {
      "text/plain": [
       "[Text(0.5, 1.0, 'Spectral Clustering')]"
      ]
     },
     "execution_count": 51,
     "metadata": {},
     "output_type": "execute_result"
    },
    {
     "data": {
      "image/png": "[encoded data removed]",
      "text/plain": [
       "<Figure size 432x288 with 1 Axes>"
      ]
     },
     "metadata": {
      "needs_background": "light"
     },
     "output_type": "display_data"
    }
   ],
   "source": [
    "spec_cl = SpectralClustering(n_clusters=3, n_neighbors=5, affinity='nearest_neighbors')\n",
    "cluster = spec_cl.fit_predict(df_test)\n",
    "cluster = ['k-means_c_' + str(c) for c in cluster]\n",
    "\n",
    "fig, ax = plt.subplots()\n",
    "sns.scatterplot(x='0', y='1', data=df_test.assign(cluster = cluster), hue='cluster', ax=ax)\n",
    "ax.set(title='Spectral Clustering')"
   ]
  },
  {
   "cell_type": "markdown",
   "metadata": {
    "id": "EjSne3T5WfMQ"
   },
   "source": [
    "# Task 4: Train the linear classification models\n",
    "Use Logistic Regression, Perceptron, and LDA to classify the clucter ID (the circle). Present the performance of training models and evaluate individual models."
   ]
  },
  {
   "cell_type": "code",
   "execution_count": 52,
   "metadata": {
    "colab": {
     "base_uri": "https://localhost:8080/",
     "height": 423
    },
    "id": "_o74BKjE1yQt",
    "outputId": "b7844486-c112-4d4c-ccb2-56221a128f7b"
   },
   "outputs": [
    {
     "data": {
      "text/html": [
       "<div>\n",
       "<style scoped>\n",
       "    .dataframe tbody tr th:only-of-type {\n",
       "        vertical-align: middle;\n",
       "    }\n",
       "\n",
       "    .dataframe tbody tr th {\n",
       "        vertical-align: top;\n",
       "    }\n",
       "\n",
       "    .dataframe thead th {\n",
       "        text-align: right;\n",
       "    }\n",
       "</style>\n",
       "<table border=\"1\" class=\"dataframe\">\n",
       "  <thead>\n",
       "    <tr style=\"text-align: right;\">\n",
       "      <th></th>\n",
       "      <th>0</th>\n",
       "      <th>1</th>\n",
       "      <th>SC Predict</th>\n",
       "    </tr>\n",
       "  </thead>\n",
       "  <tbody>\n",
       "    <tr>\n",
       "      <th>0</th>\n",
       "      <td>1.990883</td>\n",
       "      <td>-0.403233</td>\n",
       "      <td>1</td>\n",
       "    </tr>\n",
       "    <tr>\n",
       "      <th>1</th>\n",
       "      <td>-3.853454</td>\n",
       "      <td>-1.252172</td>\n",
       "      <td>2</td>\n",
       "    </tr>\n",
       "    <tr>\n",
       "      <th>2</th>\n",
       "      <td>3.887177</td>\n",
       "      <td>2.267125</td>\n",
       "      <td>0</td>\n",
       "    </tr>\n",
       "    <tr>\n",
       "      <th>3</th>\n",
       "      <td>-3.475760</td>\n",
       "      <td>1.592513</td>\n",
       "      <td>2</td>\n",
       "    </tr>\n",
       "    <tr>\n",
       "      <th>4</th>\n",
       "      <td>0.663024</td>\n",
       "      <td>-1.520762</td>\n",
       "      <td>1</td>\n",
       "    </tr>\n",
       "    <tr>\n",
       "      <th>...</th>\n",
       "      <td>...</td>\n",
       "      <td>...</td>\n",
       "      <td>...</td>\n",
       "    </tr>\n",
       "    <tr>\n",
       "      <th>319</th>\n",
       "      <td>-3.969552</td>\n",
       "      <td>0.210658</td>\n",
       "      <td>2</td>\n",
       "    </tr>\n",
       "    <tr>\n",
       "      <th>320</th>\n",
       "      <td>-1.231483</td>\n",
       "      <td>4.328215</td>\n",
       "      <td>0</td>\n",
       "    </tr>\n",
       "    <tr>\n",
       "      <th>321</th>\n",
       "      <td>-0.380659</td>\n",
       "      <td>2.340318</td>\n",
       "      <td>1</td>\n",
       "    </tr>\n",
       "    <tr>\n",
       "      <th>322</th>\n",
       "      <td>2.005823</td>\n",
       "      <td>-4.028235</td>\n",
       "      <td>0</td>\n",
       "    </tr>\n",
       "    <tr>\n",
       "      <th>323</th>\n",
       "      <td>0.546349</td>\n",
       "      <td>-3.589933</td>\n",
       "      <td>2</td>\n",
       "    </tr>\n",
       "  </tbody>\n",
       "</table>\n",
       "<p>324 rows × 3 columns</p>\n",
       "</div>"
      ],
      "text/plain": [
       "            0         1  SC Predict\n",
       "0    1.990883 -0.403233           1\n",
       "1   -3.853454 -1.252172           2\n",
       "2    3.887177  2.267125           0\n",
       "3   -3.475760  1.592513           2\n",
       "4    0.663024 -1.520762           1\n",
       "..        ...       ...         ...\n",
       "319 -3.969552  0.210658           2\n",
       "320 -1.231483  4.328215           0\n",
       "321 -0.380659  2.340318           1\n",
       "322  2.005823 -4.028235           0\n",
       "323  0.546349 -3.589933           2\n",
       "\n",
       "[324 rows x 3 columns]"
      ]
     },
     "execution_count": 52,
     "metadata": {},
     "output_type": "execute_result"
    }
   ],
   "source": [
    "sc_df = df_train[['0','1']]\n",
    "sc_df['SC Predict'] = cluster_x\n",
    "sc_df"
   ]
  },
  {
   "cell_type": "code",
   "execution_count": 53,
   "metadata": {
    "id": "H3ntkT7hJCe9"
   },
   "outputs": [],
   "source": [
    "sc_df_x_train = sc_df[['0','1']]\n",
    "sc_df_y_train = sc_df['SC Predict']"
   ]
  },
  {
   "cell_type": "code",
   "execution_count": 54,
   "metadata": {
    "colab": {
     "base_uri": "https://localhost:8080/"
    },
    "id": "vkclBWyA1ySr",
    "outputId": "9c3807f1-cf49-4e8d-c342-daa65c41dbff"
   },
   "outputs": [
    {
     "data": {
      "text/plain": [
       "array([1, 2, 0, 2, 2, 1, 2, 0, 1, 2, 2, 2, 2, 2, 2, 2, 1, 1, 2, 2, 2, 1,\n",
       "       1, 2, 0, 2, 2, 2, 1, 1, 2, 0, 1, 1, 1, 2, 2, 2, 2, 2, 1, 2, 2, 2,\n",
       "       0, 2, 2, 1, 2, 2, 1, 2, 1, 0, 2, 2, 2, 0, 1, 2, 1, 1, 2, 2, 1, 0,\n",
       "       2, 1, 0, 2, 1, 1, 1, 2, 1, 1, 2, 0, 1, 1, 0, 2, 2, 2, 2, 2, 1, 0,\n",
       "       2, 2, 2, 1, 2, 2, 1, 1, 2, 2, 2, 1, 2, 1, 1, 2, 2, 0, 1, 2, 0, 1,\n",
       "       0, 2, 2, 2, 2, 2, 1, 0, 1, 2, 0, 1, 2, 0, 1, 2, 0, 2, 0, 2, 2, 2,\n",
       "       2, 1, 2, 0, 2, 1, 0, 2, 2, 2, 0, 1, 1, 1, 2, 1, 2, 2, 1, 2, 1, 2,\n",
       "       1, 0, 2, 1, 2, 1, 1, 2, 1, 2, 2, 1, 2, 1, 1, 2, 2, 2, 1, 1, 1, 2,\n",
       "       2, 2, 2, 1, 2, 2, 1, 2, 2, 0, 2, 1, 2, 2, 0, 2, 0, 1, 2, 2, 2, 2,\n",
       "       0, 2, 2, 1, 2, 2, 2, 1, 2, 2, 0, 0, 2, 1, 1, 2, 2, 2, 2, 2, 2, 2,\n",
       "       2, 1, 0, 1, 0, 2, 2, 2, 1, 0, 2, 2, 1, 2, 2, 0, 1, 2, 2, 2, 2, 2,\n",
       "       2, 2, 2, 2, 1, 0, 2, 2, 2, 2, 1, 0, 2, 2, 1, 1, 2, 2, 2, 1, 1, 1,\n",
       "       1, 2, 0, 2, 0, 2, 1, 1, 2, 1, 0, 2, 1, 1, 0, 0, 1, 2, 2, 2, 2, 1,\n",
       "       2, 2, 1, 2, 2, 1, 2, 2, 1, 0, 2, 1, 1, 2, 1, 0, 1, 2, 2, 2, 0, 2,\n",
       "       1, 2, 2, 2, 2, 1, 0, 1, 2, 2, 2, 2, 1, 1, 2, 2], dtype=int32)"
      ]
     },
     "execution_count": 54,
     "metadata": {},
     "output_type": "execute_result"
    }
   ],
   "source": [
    "from sklearn.linear_model import LogisticRegression\n",
    "logisticRegr = LogisticRegression()\n",
    "logisticRegr.fit(sc_df_x_train, sc_df_y_train)\n",
    "predictions_train_sc = logisticRegr.predict(sc_df_x_train)\n",
    "predictions_train_sc"
   ]
  },
  {
   "cell_type": "code",
   "execution_count": 55,
   "metadata": {
    "colab": {
     "base_uri": "https://localhost:8080/",
     "height": 283
    },
    "id": "aKRekLSRz5u-",
    "outputId": "41597e88-7608-4eb1-8e46-438c85a6aa7d"
   },
   "outputs": [
    {
     "data": {
      "text/plain": [
       "<matplotlib.collections.PathCollection at 0x7f9750d7d550>"
      ]
     },
     "execution_count": 55,
     "metadata": {},
     "output_type": "execute_result"
    },
    {
     "data": {
      "image/png": "[encoded data removed]",
      "text/plain": [
       "<Figure size 432x288 with 1 Axes>"
      ]
     },
     "metadata": {
      "needs_background": "light"
     },
     "output_type": "display_data"
    }
   ],
   "source": [
    "data_with_clusters = sc_df.copy()\n",
    "data_with_clusters['Clusters'] = predictions_train_sc \n",
    "plt.scatter(data_with_clusters['0'],data_with_clusters['1'],c=data_with_clusters['Clusters'])"
   ]
  },
  {
   "cell_type": "code",
   "execution_count": 56,
   "metadata": {
    "colab": {
     "base_uri": "https://localhost:8080/"
    },
    "id": "b_yh9Fz8z5xC",
    "outputId": "26b4e06d-ba0b-44c3-8705-8ba2707a9aa5"
   },
   "outputs": [
    {
     "data": {
      "text/plain": [
       "array([1, 0, 1, 0, 1, 1, 2, 1, 0, 0, 0, 1, 2, 1, 0, 0, 0, 1, 2, 1, 0, 1,\n",
       "       1, 1, 1, 0, 2, 2, 1, 1, 0, 1, 0, 0, 1, 0, 0, 1, 2, 0, 1, 1, 1, 0,\n",
       "       1, 0, 0, 0, 2, 2, 0, 0, 1, 1, 1, 0, 1, 1, 1, 0, 1, 0, 0, 1, 0, 1,\n",
       "       0, 1, 1, 2, 1, 0, 0, 0, 0, 1, 0, 1, 0, 1, 1, 1, 1, 1, 2, 2, 1, 1,\n",
       "       0, 0, 0, 1, 2, 0, 1, 1, 1, 2, 0, 1, 2, 1, 1, 0, 2, 1, 1, 2, 1, 0,\n",
       "       1, 2, 0, 0, 2, 1, 0, 1, 0, 0, 1, 1, 0, 1, 1, 0, 1, 0, 1, 1, 0, 0,\n",
       "       0, 1, 2, 1, 2, 1, 1, 2, 0, 1, 1, 1, 1, 1, 0, 0, 1, 0, 1, 2, 0, 1,\n",
       "       1, 1, 2, 0, 2, 0, 1, 0, 1, 1, 0, 0, 0, 2, 1, 0, 0, 1, 1, 1, 0, 2,\n",
       "       0, 0, 2, 1, 1, 0, 1, 0, 0, 1, 2, 0, 2, 2, 1, 1, 1, 1, 2, 1, 0, 1,\n",
       "       1, 2, 0, 1, 1, 0, 0, 0, 0, 0, 1, 0, 1, 0, 0, 2, 2, 0, 1, 0, 0, 0,\n",
       "       2, 1, 1, 0, 1, 0, 1, 1, 0, 1, 0, 0, 0, 0, 0, 1, 1, 0, 1, 1, 2, 0,\n",
       "       2, 0, 0, 2, 1, 1, 2, 0, 0, 0, 1, 1, 1, 1, 1, 0, 1, 0, 2, 0, 1, 1,\n",
       "       1, 0, 1, 0, 1, 0, 1, 0, 1, 1, 1, 1, 0, 1, 1, 1, 1, 0, 0, 0, 0, 1,\n",
       "       0, 2, 0, 0, 2, 1, 2, 2, 0, 1, 1, 0, 1, 0, 1, 1, 0, 0, 0, 1, 1, 2,\n",
       "       1, 2, 0, 0, 1, 1, 1, 0, 2, 1, 1, 0, 0, 0, 1, 2], dtype=int32)"
      ]
     },
     "execution_count": 56,
     "metadata": {},
     "output_type": "execute_result"
    }
   ],
   "source": [
    "from sklearn.linear_model import Perceptron\n",
    "p = Perceptron(random_state=42)\n",
    "p.fit(sc_df_x_train, sc_df_y_train)\n",
    "perceptron_predict = p.predict(sc_df_x_train)\n",
    "perceptron_predict"
   ]
  },
  {
   "cell_type": "code",
   "execution_count": 57,
   "metadata": {
    "colab": {
     "base_uri": "https://localhost:8080/",
     "height": 283
    },
    "id": "VBPxjxaez5y3",
    "outputId": "2e851bbc-9830-4286-949c-cf5e4918770c"
   },
   "outputs": [
    {
     "data": {
      "text/plain": [
       "<matplotlib.collections.PathCollection at 0x7f9750d5f7c0>"
      ]
     },
     "execution_count": 57,
     "metadata": {},
     "output_type": "execute_result"
    },
    {
     "data": {
      "image/png": "[encoded data removed]",
      "text/plain": [
       "<Figure size 432x288 with 1 Axes>"
      ]
     },
     "metadata": {
      "needs_background": "light"
     },
     "output_type": "display_data"
    }
   ],
   "source": [
    "data_with_clusters = sc_df.copy()\n",
    "data_with_clusters['Clusters'] =  perceptron_predict\n",
    "plt.scatter(data_with_clusters['0'],data_with_clusters['1'],c=data_with_clusters['Clusters'])"
   ]
  },
  {
   "cell_type": "markdown",
   "metadata": {
    "id": "Q2vMT1m5WlQz"
   },
   "source": [
    "# Task 5: Guess the accuracy of KNN\n",
    "Based on the work from Task 1, guess how KNN would perform on new training data set. Do you think the accuracy will increase or decrease. Explain why."
   ]
  },
  {
   "cell_type": "code",
   "execution_count": 58,
   "metadata": {},
   "outputs": [
    {
     "data": {
      "text/html": [
       "<div>\n",
       "<style scoped>\n",
       "    .dataframe tbody tr th:only-of-type {\n",
       "        vertical-align: middle;\n",
       "    }\n",
       "\n",
       "    .dataframe tbody tr th {\n",
       "        vertical-align: top;\n",
       "    }\n",
       "\n",
       "    .dataframe thead th {\n",
       "        text-align: right;\n",
       "    }\n",
       "</style>\n",
       "<table border=\"1\" class=\"dataframe\">\n",
       "  <thead>\n",
       "    <tr style=\"text-align: right;\">\n",
       "      <th></th>\n",
       "      <th>0</th>\n",
       "      <th>1</th>\n",
       "    </tr>\n",
       "  </thead>\n",
       "  <tbody>\n",
       "    <tr>\n",
       "      <th>0</th>\n",
       "      <td>-1.749593</td>\n",
       "      <td>-0.156003</td>\n",
       "    </tr>\n",
       "    <tr>\n",
       "      <th>1</th>\n",
       "      <td>0.368625</td>\n",
       "      <td>3.140500</td>\n",
       "    </tr>\n",
       "    <tr>\n",
       "      <th>2</th>\n",
       "      <td>-1.799280</td>\n",
       "      <td>0.049168</td>\n",
       "    </tr>\n",
       "    <tr>\n",
       "      <th>3</th>\n",
       "      <td>-0.177061</td>\n",
       "      <td>-3.735070</td>\n",
       "    </tr>\n",
       "    <tr>\n",
       "      <th>4</th>\n",
       "      <td>3.160910</td>\n",
       "      <td>3.202912</td>\n",
       "    </tr>\n",
       "    <tr>\n",
       "      <th>5</th>\n",
       "      <td>-3.264976</td>\n",
       "      <td>1.895905</td>\n",
       "    </tr>\n",
       "    <tr>\n",
       "      <th>6</th>\n",
       "      <td>-0.914822</td>\n",
       "      <td>-3.725331</td>\n",
       "    </tr>\n",
       "    <tr>\n",
       "      <th>7</th>\n",
       "      <td>2.097375</td>\n",
       "      <td>0.938554</td>\n",
       "    </tr>\n",
       "    <tr>\n",
       "      <th>8</th>\n",
       "      <td>0.006415</td>\n",
       "      <td>3.213170</td>\n",
       "    </tr>\n",
       "    <tr>\n",
       "      <th>9</th>\n",
       "      <td>-1.898791</td>\n",
       "      <td>4.079779</td>\n",
       "    </tr>\n",
       "    <tr>\n",
       "      <th>10</th>\n",
       "      <td>0.188479</td>\n",
       "      <td>3.181617</td>\n",
       "    </tr>\n",
       "    <tr>\n",
       "      <th>11</th>\n",
       "      <td>-0.768414</td>\n",
       "      <td>4.433908</td>\n",
       "    </tr>\n",
       "    <tr>\n",
       "      <th>12</th>\n",
       "      <td>-0.914822</td>\n",
       "      <td>3.225331</td>\n",
       "    </tr>\n",
       "    <tr>\n",
       "      <th>13</th>\n",
       "      <td>-0.863661</td>\n",
       "      <td>-1.297517</td>\n",
       "    </tr>\n",
       "    <tr>\n",
       "      <th>14</th>\n",
       "      <td>-3.653391</td>\n",
       "      <td>1.268593</td>\n",
       "    </tr>\n",
       "    <tr>\n",
       "      <th>15</th>\n",
       "      <td>-2.897597</td>\n",
       "      <td>3.442954</td>\n",
       "    </tr>\n",
       "    <tr>\n",
       "      <th>16</th>\n",
       "      <td>0.456047</td>\n",
       "      <td>-1.562287</td>\n",
       "    </tr>\n",
       "    <tr>\n",
       "      <th>17</th>\n",
       "      <td>1.713734</td>\n",
       "      <td>1.684177</td>\n",
       "    </tr>\n",
       "    <tr>\n",
       "      <th>18</th>\n",
       "      <td>-1.278823</td>\n",
       "      <td>-3.662248</td>\n",
       "    </tr>\n",
       "    <tr>\n",
       "      <th>19</th>\n",
       "      <td>2.419240</td>\n",
       "      <td>3.794375</td>\n",
       "    </tr>\n",
       "    <tr>\n",
       "      <th>20</th>\n",
       "      <td>1.058143</td>\n",
       "      <td>-1.373660</td>\n",
       "    </tr>\n",
       "    <tr>\n",
       "      <th>21</th>\n",
       "      <td>0.140267</td>\n",
       "      <td>2.416492</td>\n",
       "    </tr>\n",
       "    <tr>\n",
       "      <th>22</th>\n",
       "      <td>1.329386</td>\n",
       "      <td>2.043960</td>\n",
       "    </tr>\n",
       "    <tr>\n",
       "      <th>23</th>\n",
       "      <td>4.001408</td>\n",
       "      <td>2.058819</td>\n",
       "    </tr>\n",
       "    <tr>\n",
       "      <th>24</th>\n",
       "      <td>-0.677240</td>\n",
       "      <td>2.229902</td>\n",
       "    </tr>\n",
       "    <tr>\n",
       "      <th>25</th>\n",
       "      <td>-1.475833</td>\n",
       "      <td>-0.724471</td>\n",
       "    </tr>\n",
       "    <tr>\n",
       "      <th>26</th>\n",
       "      <td>-0.533342</td>\n",
       "      <td>4.468282</td>\n",
       "    </tr>\n",
       "    <tr>\n",
       "      <th>27</th>\n",
       "      <td>3.480901</td>\n",
       "      <td>-2.851899</td>\n",
       "    </tr>\n",
       "    <tr>\n",
       "      <th>28</th>\n",
       "      <td>2.005823</td>\n",
       "      <td>4.028235</td>\n",
       "    </tr>\n",
       "    <tr>\n",
       "      <th>29</th>\n",
       "      <td>4.276068</td>\n",
       "      <td>1.401870</td>\n",
       "    </tr>\n",
       "    <tr>\n",
       "      <th>30</th>\n",
       "      <td>-4.373576</td>\n",
       "      <td>-1.059166</td>\n",
       "    </tr>\n",
       "    <tr>\n",
       "      <th>31</th>\n",
       "      <td>-4.054360</td>\n",
       "      <td>-1.952477</td>\n",
       "    </tr>\n",
       "    <tr>\n",
       "      <th>32</th>\n",
       "      <td>2.878739</td>\n",
       "      <td>0.663302</td>\n",
       "    </tr>\n",
       "    <tr>\n",
       "      <th>33</th>\n",
       "      <td>4.104486</td>\n",
       "      <td>-1.844774</td>\n",
       "    </tr>\n",
       "    <tr>\n",
       "      <th>34</th>\n",
       "      <td>2.031611</td>\n",
       "      <td>1.139150</td>\n",
       "    </tr>\n",
       "    <tr>\n",
       "      <th>35</th>\n",
       "      <td>2.031611</td>\n",
       "      <td>-0.305817</td>\n",
       "    </tr>\n",
       "  </tbody>\n",
       "</table>\n",
       "</div>"
      ],
      "text/plain": [
       "           0         1\n",
       "0  -1.749593 -0.156003\n",
       "1   0.368625  3.140500\n",
       "2  -1.799280  0.049168\n",
       "3  -0.177061 -3.735070\n",
       "4   3.160910  3.202912\n",
       "5  -3.264976  1.895905\n",
       "6  -0.914822 -3.725331\n",
       "7   2.097375  0.938554\n",
       "8   0.006415  3.213170\n",
       "9  -1.898791  4.079779\n",
       "10  0.188479  3.181617\n",
       "11 -0.768414  4.433908\n",
       "12 -0.914822  3.225331\n",
       "13 -0.863661 -1.297517\n",
       "14 -3.653391  1.268593\n",
       "15 -2.897597  3.442954\n",
       "16  0.456047 -1.562287\n",
       "17  1.713734  1.684177\n",
       "18 -1.278823 -3.662248\n",
       "19  2.419240  3.794375\n",
       "20  1.058143 -1.373660\n",
       "21  0.140267  2.416492\n",
       "22  1.329386  2.043960\n",
       "23  4.001408  2.058819\n",
       "24 -0.677240  2.229902\n",
       "25 -1.475833 -0.724471\n",
       "26 -0.533342  4.468282\n",
       "27  3.480901 -2.851899\n",
       "28  2.005823  4.028235\n",
       "29  4.276068  1.401870\n",
       "30 -4.373576 -1.059166\n",
       "31 -4.054360 -1.952477\n",
       "32  2.878739  0.663302\n",
       "33  4.104486 -1.844774\n",
       "34  2.031611  1.139150\n",
       "35  2.031611 -0.305817"
      ]
     },
     "execution_count": 58,
     "metadata": {},
     "output_type": "execute_result"
    }
   ],
   "source": [
    "x_test"
   ]
  },
  {
   "cell_type": "code",
   "execution_count": 59,
   "metadata": {
    "id": "IDiv7UdEz52y"
   },
   "outputs": [],
   "source": [
    "def KNNclassifierSC(i):\n",
    "    classifier = KNeighborsClassifier(n_neighbors=i)\n",
    "    classifier.fit(sc_df_x_train, sc_df_y_train)\n",
    "    y_pred = classifier.predict(sc_df_x_train)\n",
    "    return y_pred"
   ]
  },
  {
   "cell_type": "code",
   "execution_count": 60,
   "metadata": {
    "colab": {
     "base_uri": "https://localhost:8080/",
     "height": 423
    },
    "id": "zEXKbd9oD2Dl",
    "outputId": "4f7fb39e-3fdd-4537-dbac-940639deb910"
   },
   "outputs": [
    {
     "data": {
      "text/html": [
       "<div>\n",
       "<style scoped>\n",
       "    .dataframe tbody tr th:only-of-type {\n",
       "        vertical-align: middle;\n",
       "    }\n",
       "\n",
       "    .dataframe tbody tr th {\n",
       "        vertical-align: top;\n",
       "    }\n",
       "\n",
       "    .dataframe thead th {\n",
       "        text-align: right;\n",
       "    }\n",
       "</style>\n",
       "<table border=\"1\" class=\"dataframe\">\n",
       "  <thead>\n",
       "    <tr style=\"text-align: right;\">\n",
       "      <th></th>\n",
       "      <th>0</th>\n",
       "      <th>1</th>\n",
       "      <th>2</th>\n",
       "      <th>3</th>\n",
       "    </tr>\n",
       "  </thead>\n",
       "  <tbody>\n",
       "    <tr>\n",
       "      <th>0</th>\n",
       "      <td>1</td>\n",
       "      <td>1</td>\n",
       "      <td>1</td>\n",
       "      <td>1</td>\n",
       "    </tr>\n",
       "    <tr>\n",
       "      <th>1</th>\n",
       "      <td>2</td>\n",
       "      <td>2</td>\n",
       "      <td>2</td>\n",
       "      <td>2</td>\n",
       "    </tr>\n",
       "    <tr>\n",
       "      <th>2</th>\n",
       "      <td>0</td>\n",
       "      <td>0</td>\n",
       "      <td>0</td>\n",
       "      <td>1</td>\n",
       "    </tr>\n",
       "    <tr>\n",
       "      <th>3</th>\n",
       "      <td>2</td>\n",
       "      <td>2</td>\n",
       "      <td>2</td>\n",
       "      <td>2</td>\n",
       "    </tr>\n",
       "    <tr>\n",
       "      <th>4</th>\n",
       "      <td>1</td>\n",
       "      <td>1</td>\n",
       "      <td>1</td>\n",
       "      <td>1</td>\n",
       "    </tr>\n",
       "    <tr>\n",
       "      <th>...</th>\n",
       "      <td>...</td>\n",
       "      <td>...</td>\n",
       "      <td>...</td>\n",
       "      <td>...</td>\n",
       "    </tr>\n",
       "    <tr>\n",
       "      <th>319</th>\n",
       "      <td>2</td>\n",
       "      <td>2</td>\n",
       "      <td>2</td>\n",
       "      <td>2</td>\n",
       "    </tr>\n",
       "    <tr>\n",
       "      <th>320</th>\n",
       "      <td>0</td>\n",
       "      <td>0</td>\n",
       "      <td>0</td>\n",
       "      <td>1</td>\n",
       "    </tr>\n",
       "    <tr>\n",
       "      <th>321</th>\n",
       "      <td>1</td>\n",
       "      <td>1</td>\n",
       "      <td>1</td>\n",
       "      <td>1</td>\n",
       "    </tr>\n",
       "    <tr>\n",
       "      <th>322</th>\n",
       "      <td>0</td>\n",
       "      <td>0</td>\n",
       "      <td>2</td>\n",
       "      <td>2</td>\n",
       "    </tr>\n",
       "    <tr>\n",
       "      <th>323</th>\n",
       "      <td>2</td>\n",
       "      <td>2</td>\n",
       "      <td>2</td>\n",
       "      <td>2</td>\n",
       "    </tr>\n",
       "  </tbody>\n",
       "</table>\n",
       "<p>324 rows × 4 columns</p>\n",
       "</div>"
      ],
      "text/plain": [
       "     0  1  2  3\n",
       "0    1  1  1  1\n",
       "1    2  2  2  2\n",
       "2    0  0  0  1\n",
       "3    2  2  2  2\n",
       "4    1  1  1  1\n",
       "..  .. .. .. ..\n",
       "319  2  2  2  2\n",
       "320  0  0  0  1\n",
       "321  1  1  1  1\n",
       "322  0  0  2  2\n",
       "323  2  2  2  2\n",
       "\n",
       "[324 rows x 4 columns]"
      ]
     },
     "execution_count": 60,
     "metadata": {},
     "output_type": "execute_result"
    }
   ],
   "source": [
    "C_SC = []\n",
    "nearest_neighbors = [1,10,50,100]\n",
    "for i in nearest_neighbors:\n",
    "    c = KNNclassifierSC(i)\n",
    "    C_SC.append(c)\n",
    "C_SC_df = pd.DataFrame(C_SC)\n",
    "C_SC_df = C_SC_df.T\n",
    "C_SC_df"
   ]
  },
  {
   "cell_type": "code",
   "execution_count": 61,
   "metadata": {
    "colab": {
     "base_uri": "https://localhost:8080/",
     "height": 423
    },
    "id": "iMIRnpG8zhDf",
    "outputId": "0bfea8f3-20b1-4769-eca9-0966085d5912"
   },
   "outputs": [
    {
     "data": {
      "text/html": [
       "<div>\n",
       "<style scoped>\n",
       "    .dataframe tbody tr th:only-of-type {\n",
       "        vertical-align: middle;\n",
       "    }\n",
       "\n",
       "    .dataframe tbody tr th {\n",
       "        vertical-align: top;\n",
       "    }\n",
       "\n",
       "    .dataframe thead th {\n",
       "        text-align: right;\n",
       "    }\n",
       "</style>\n",
       "<table border=\"1\" class=\"dataframe\">\n",
       "  <thead>\n",
       "    <tr style=\"text-align: right;\">\n",
       "      <th></th>\n",
       "      <th>0</th>\n",
       "      <th>1</th>\n",
       "      <th>SC Predict</th>\n",
       "      <th>0</th>\n",
       "      <th>1</th>\n",
       "      <th>2</th>\n",
       "      <th>3</th>\n",
       "    </tr>\n",
       "  </thead>\n",
       "  <tbody>\n",
       "    <tr>\n",
       "      <th>0</th>\n",
       "      <td>1.990883</td>\n",
       "      <td>-0.403233</td>\n",
       "      <td>1</td>\n",
       "      <td>1</td>\n",
       "      <td>1</td>\n",
       "      <td>1</td>\n",
       "      <td>1</td>\n",
       "    </tr>\n",
       "    <tr>\n",
       "      <th>1</th>\n",
       "      <td>-3.853454</td>\n",
       "      <td>-1.252172</td>\n",
       "      <td>2</td>\n",
       "      <td>2</td>\n",
       "      <td>2</td>\n",
       "      <td>2</td>\n",
       "      <td>2</td>\n",
       "    </tr>\n",
       "    <tr>\n",
       "      <th>2</th>\n",
       "      <td>3.887177</td>\n",
       "      <td>2.267125</td>\n",
       "      <td>0</td>\n",
       "      <td>0</td>\n",
       "      <td>0</td>\n",
       "      <td>0</td>\n",
       "      <td>1</td>\n",
       "    </tr>\n",
       "    <tr>\n",
       "      <th>3</th>\n",
       "      <td>-3.475760</td>\n",
       "      <td>1.592513</td>\n",
       "      <td>2</td>\n",
       "      <td>2</td>\n",
       "      <td>2</td>\n",
       "      <td>2</td>\n",
       "      <td>2</td>\n",
       "    </tr>\n",
       "    <tr>\n",
       "      <th>4</th>\n",
       "      <td>0.663024</td>\n",
       "      <td>-1.520762</td>\n",
       "      <td>1</td>\n",
       "      <td>1</td>\n",
       "      <td>1</td>\n",
       "      <td>1</td>\n",
       "      <td>1</td>\n",
       "    </tr>\n",
       "    <tr>\n",
       "      <th>...</th>\n",
       "      <td>...</td>\n",
       "      <td>...</td>\n",
       "      <td>...</td>\n",
       "      <td>...</td>\n",
       "      <td>...</td>\n",
       "      <td>...</td>\n",
       "      <td>...</td>\n",
       "    </tr>\n",
       "    <tr>\n",
       "      <th>319</th>\n",
       "      <td>-3.969552</td>\n",
       "      <td>0.210658</td>\n",
       "      <td>2</td>\n",
       "      <td>2</td>\n",
       "      <td>2</td>\n",
       "      <td>2</td>\n",
       "      <td>2</td>\n",
       "    </tr>\n",
       "    <tr>\n",
       "      <th>320</th>\n",
       "      <td>-1.231483</td>\n",
       "      <td>4.328215</td>\n",
       "      <td>0</td>\n",
       "      <td>0</td>\n",
       "      <td>0</td>\n",
       "      <td>0</td>\n",
       "      <td>1</td>\n",
       "    </tr>\n",
       "    <tr>\n",
       "      <th>321</th>\n",
       "      <td>-0.380659</td>\n",
       "      <td>2.340318</td>\n",
       "      <td>1</td>\n",
       "      <td>1</td>\n",
       "      <td>1</td>\n",
       "      <td>1</td>\n",
       "      <td>1</td>\n",
       "    </tr>\n",
       "    <tr>\n",
       "      <th>322</th>\n",
       "      <td>2.005823</td>\n",
       "      <td>-4.028235</td>\n",
       "      <td>0</td>\n",
       "      <td>0</td>\n",
       "      <td>0</td>\n",
       "      <td>2</td>\n",
       "      <td>2</td>\n",
       "    </tr>\n",
       "    <tr>\n",
       "      <th>323</th>\n",
       "      <td>0.546349</td>\n",
       "      <td>-3.589933</td>\n",
       "      <td>2</td>\n",
       "      <td>2</td>\n",
       "      <td>2</td>\n",
       "      <td>2</td>\n",
       "      <td>2</td>\n",
       "    </tr>\n",
       "  </tbody>\n",
       "</table>\n",
       "<p>324 rows × 7 columns</p>\n",
       "</div>"
      ],
      "text/plain": [
       "            0         1  SC Predict  0  1  2  3\n",
       "0    1.990883 -0.403233           1  1  1  1  1\n",
       "1   -3.853454 -1.252172           2  2  2  2  2\n",
       "2    3.887177  2.267125           0  0  0  0  1\n",
       "3   -3.475760  1.592513           2  2  2  2  2\n",
       "4    0.663024 -1.520762           1  1  1  1  1\n",
       "..        ...       ...         ... .. .. .. ..\n",
       "319 -3.969552  0.210658           2  2  2  2  2\n",
       "320 -1.231483  4.328215           0  0  0  0  1\n",
       "321 -0.380659  2.340318           1  1  1  1  1\n",
       "322  2.005823 -4.028235           0  0  0  2  2\n",
       "323  0.546349 -3.589933           2  2  2  2  2\n",
       "\n",
       "[324 rows x 7 columns]"
      ]
     },
     "execution_count": 61,
     "metadata": {},
     "output_type": "execute_result"
    }
   ],
   "source": [
    "sc_result_test = pd.concat([sc_df,C_SC_df ], axis=1, join=\"inner\")\n",
    "sc_result_test"
   ]
  },
  {
   "cell_type": "code",
   "execution_count": 62,
   "metadata": {},
   "outputs": [
    {
     "name": "stdout",
     "output_type": "stream",
     "text": [
      "Accuracy Score for KNN on K-means when Near_neighbors = 1: 0.3425925925925926\n",
      "Accuracy Score for KNN on K-means when Near_neighbors = 10: 0.3425925925925926\n",
      "Accuracy Score for KNN on K-means when Near_neighbors = 50: 0.3395061728395062\n",
      "Accuracy Score for KNN on K-means when Near_neighbors = 100: 0.33641975308641975\n"
     ]
    }
   ],
   "source": [
    "cc1 = KNNclassifier(1)\n",
    "cc10 = KNNclassifier(10)\n",
    "cc50 = KNNclassifier(50)\n",
    "cc100 = KNNclassifier(100)\n",
    "# Accuracy score for K means model:\n",
    "acc_score_knn1 = accuracy_score(y_true=sc_df_y_train, y_pred=cc1)\n",
    "print(\"Accuracy Score for KNN on K-means when Near_neighbors = 1:\",acc_score_knn1)\n",
    "acc_score_knn10 = accuracy_score(y_true=sc_df_y_train, y_pred=cc10)\n",
    "print(\"Accuracy Score for KNN on K-means when Near_neighbors = 10:\",acc_score_knn10)\n",
    "acc_score_knn50 = accuracy_score(y_true=sc_df_y_train, y_pred=cc50)\n",
    "print(\"Accuracy Score for KNN on K-means when Near_neighbors = 50:\",acc_score_knn50)\n",
    "acc_score_knn100 = accuracy_score(y_true=sc_df_y_train, y_pred=cc100)\n",
    "print(\"Accuracy Score for KNN on K-means when Near_neighbors = 100:\",acc_score_knn100)"
   ]
  },
  {
   "cell_type": "code",
   "execution_count": 63,
   "metadata": {
    "colab": {
     "base_uri": "https://localhost:8080/"
    },
    "id": "17JX7BzyzhF1",
    "outputId": "8cca347f-de98-41c3-eddd-eaa83264d307"
   },
   "outputs": [
    {
     "name": "stdout",
     "output_type": "stream",
     "text": [
      "Accuracy Score for KNN when Near_neighbors = 1: 100.0 %\n",
      "Accuracy Score for KNN when Near_neighbors = 10: 98.4567901234568 %\n",
      "Accuracy Score for KNN when Near_neighbors = 50: 73.4567901234568 %\n",
      "Accuracy Score for KNN when Near_neighbors = 100: 58.333333333333336 %\n"
     ]
    }
   ],
   "source": [
    "cc1 = KNNclassifierSC(1)\n",
    "cc10 = KNNclassifierSC(10)\n",
    "cc50 = KNNclassifierSC(50)\n",
    "cc100 = KNNclassifierSC(100)\n",
    "# Accuracy score for K means model:\n",
    "acc_score_knn1 = accuracy_score(y_true=sc_df_y_train, y_pred=cc1)\n",
    "print(\"Accuracy Score for KNN when Near_neighbors = 1:\",acc_score_knn1*100,\"%\")\n",
    "acc_score_knn10 = accuracy_score(y_true=sc_df_y_train, y_pred=cc10)\n",
    "print(\"Accuracy Score for KNN when Near_neighbors = 10:\",acc_score_knn10*100,\"%\")\n",
    "acc_score_knn50 = accuracy_score(y_true=sc_df_y_train, y_pred=cc50)\n",
    "print(\"Accuracy Score for KNN when Near_neighbors = 50:\",acc_score_knn50*100,\"%\")\n",
    "acc_score_knn100 = accuracy_score(y_true=sc_df_y_train, y_pred=cc100)\n",
    "print(\"Accuracy Score for KNN when Near_neighbors = 100:\",acc_score_knn100*100,\"%\")"
   ]
  },
  {
   "cell_type": "markdown",
   "metadata": {
    "id": "lfdIEgd5YtEY"
   },
   "source": [
    "**Explanation:** We have clustered our data using two clustering techniques viz. K-Means and Spectral Clustering. Our aim here is to cluster the data in circles and not in arcs. It can be observed that K-means clusters in form of arcs and Spectral Clustering clusters the data points in concentric circles. When we use the labels genrated from K-means and train our model using KNN, the accuracy score with respect to our desired output is comparatively low as when we train the model using KNN with spectral clustering labels. The above cells represent the accuracy score and the difference is clearly visible. Hence, we can conclude using the observations that Spectral Clustering labeled KNN model gives us a better accuracy to retrieve the desired output in comparison to the K-means labeled KNN Models."
   ]
  },
  {
   "cell_type": "markdown",
   "metadata": {
    "id": "AYWW3vO2WrYf"
   },
   "source": [
    "# Task 6: Regularization\n",
    "Predict the cluster ID on the test data set. Visualize the result to show that each observation belongs to the same circle from the training data set. "
   ]
  },
  {
   "cell_type": "code",
   "execution_count": 64,
   "metadata": {},
   "outputs": [
    {
     "data": {
      "text/html": [
       "<div>\n",
       "<style scoped>\n",
       "    .dataframe tbody tr th:only-of-type {\n",
       "        vertical-align: middle;\n",
       "    }\n",
       "\n",
       "    .dataframe tbody tr th {\n",
       "        vertical-align: top;\n",
       "    }\n",
       "\n",
       "    .dataframe thead th {\n",
       "        text-align: right;\n",
       "    }\n",
       "</style>\n",
       "<table border=\"1\" class=\"dataframe\">\n",
       "  <thead>\n",
       "    <tr style=\"text-align: right;\">\n",
       "      <th></th>\n",
       "      <th>0</th>\n",
       "      <th>1</th>\n",
       "    </tr>\n",
       "  </thead>\n",
       "  <tbody>\n",
       "    <tr>\n",
       "      <th>0</th>\n",
       "      <td>-1.749593</td>\n",
       "      <td>-0.156003</td>\n",
       "    </tr>\n",
       "    <tr>\n",
       "      <th>1</th>\n",
       "      <td>0.368625</td>\n",
       "      <td>3.140500</td>\n",
       "    </tr>\n",
       "    <tr>\n",
       "      <th>2</th>\n",
       "      <td>-1.799280</td>\n",
       "      <td>0.049168</td>\n",
       "    </tr>\n",
       "    <tr>\n",
       "      <th>3</th>\n",
       "      <td>-0.177061</td>\n",
       "      <td>-3.735070</td>\n",
       "    </tr>\n",
       "    <tr>\n",
       "      <th>4</th>\n",
       "      <td>3.160910</td>\n",
       "      <td>3.202912</td>\n",
       "    </tr>\n",
       "    <tr>\n",
       "      <th>5</th>\n",
       "      <td>-3.264976</td>\n",
       "      <td>1.895905</td>\n",
       "    </tr>\n",
       "    <tr>\n",
       "      <th>6</th>\n",
       "      <td>-0.914822</td>\n",
       "      <td>-3.725331</td>\n",
       "    </tr>\n",
       "    <tr>\n",
       "      <th>7</th>\n",
       "      <td>2.097375</td>\n",
       "      <td>0.938554</td>\n",
       "    </tr>\n",
       "    <tr>\n",
       "      <th>8</th>\n",
       "      <td>0.006415</td>\n",
       "      <td>3.213170</td>\n",
       "    </tr>\n",
       "    <tr>\n",
       "      <th>9</th>\n",
       "      <td>-1.898791</td>\n",
       "      <td>4.079779</td>\n",
       "    </tr>\n",
       "    <tr>\n",
       "      <th>10</th>\n",
       "      <td>0.188479</td>\n",
       "      <td>3.181617</td>\n",
       "    </tr>\n",
       "    <tr>\n",
       "      <th>11</th>\n",
       "      <td>-0.768414</td>\n",
       "      <td>4.433908</td>\n",
       "    </tr>\n",
       "    <tr>\n",
       "      <th>12</th>\n",
       "      <td>-0.914822</td>\n",
       "      <td>3.225331</td>\n",
       "    </tr>\n",
       "    <tr>\n",
       "      <th>13</th>\n",
       "      <td>-0.863661</td>\n",
       "      <td>-1.297517</td>\n",
       "    </tr>\n",
       "    <tr>\n",
       "      <th>14</th>\n",
       "      <td>-3.653391</td>\n",
       "      <td>1.268593</td>\n",
       "    </tr>\n",
       "    <tr>\n",
       "      <th>15</th>\n",
       "      <td>-2.897597</td>\n",
       "      <td>3.442954</td>\n",
       "    </tr>\n",
       "    <tr>\n",
       "      <th>16</th>\n",
       "      <td>0.456047</td>\n",
       "      <td>-1.562287</td>\n",
       "    </tr>\n",
       "    <tr>\n",
       "      <th>17</th>\n",
       "      <td>1.713734</td>\n",
       "      <td>1.684177</td>\n",
       "    </tr>\n",
       "    <tr>\n",
       "      <th>18</th>\n",
       "      <td>-1.278823</td>\n",
       "      <td>-3.662248</td>\n",
       "    </tr>\n",
       "    <tr>\n",
       "      <th>19</th>\n",
       "      <td>2.419240</td>\n",
       "      <td>3.794375</td>\n",
       "    </tr>\n",
       "    <tr>\n",
       "      <th>20</th>\n",
       "      <td>1.058143</td>\n",
       "      <td>-1.373660</td>\n",
       "    </tr>\n",
       "    <tr>\n",
       "      <th>21</th>\n",
       "      <td>0.140267</td>\n",
       "      <td>2.416492</td>\n",
       "    </tr>\n",
       "    <tr>\n",
       "      <th>22</th>\n",
       "      <td>1.329386</td>\n",
       "      <td>2.043960</td>\n",
       "    </tr>\n",
       "    <tr>\n",
       "      <th>23</th>\n",
       "      <td>4.001408</td>\n",
       "      <td>2.058819</td>\n",
       "    </tr>\n",
       "    <tr>\n",
       "      <th>24</th>\n",
       "      <td>-0.677240</td>\n",
       "      <td>2.229902</td>\n",
       "    </tr>\n",
       "    <tr>\n",
       "      <th>25</th>\n",
       "      <td>-1.475833</td>\n",
       "      <td>-0.724471</td>\n",
       "    </tr>\n",
       "    <tr>\n",
       "      <th>26</th>\n",
       "      <td>-0.533342</td>\n",
       "      <td>4.468282</td>\n",
       "    </tr>\n",
       "    <tr>\n",
       "      <th>27</th>\n",
       "      <td>3.480901</td>\n",
       "      <td>-2.851899</td>\n",
       "    </tr>\n",
       "    <tr>\n",
       "      <th>28</th>\n",
       "      <td>2.005823</td>\n",
       "      <td>4.028235</td>\n",
       "    </tr>\n",
       "    <tr>\n",
       "      <th>29</th>\n",
       "      <td>4.276068</td>\n",
       "      <td>1.401870</td>\n",
       "    </tr>\n",
       "    <tr>\n",
       "      <th>30</th>\n",
       "      <td>-4.373576</td>\n",
       "      <td>-1.059166</td>\n",
       "    </tr>\n",
       "    <tr>\n",
       "      <th>31</th>\n",
       "      <td>-4.054360</td>\n",
       "      <td>-1.952477</td>\n",
       "    </tr>\n",
       "    <tr>\n",
       "      <th>32</th>\n",
       "      <td>2.878739</td>\n",
       "      <td>0.663302</td>\n",
       "    </tr>\n",
       "    <tr>\n",
       "      <th>33</th>\n",
       "      <td>4.104486</td>\n",
       "      <td>-1.844774</td>\n",
       "    </tr>\n",
       "    <tr>\n",
       "      <th>34</th>\n",
       "      <td>2.031611</td>\n",
       "      <td>1.139150</td>\n",
       "    </tr>\n",
       "    <tr>\n",
       "      <th>35</th>\n",
       "      <td>2.031611</td>\n",
       "      <td>-0.305817</td>\n",
       "    </tr>\n",
       "  </tbody>\n",
       "</table>\n",
       "</div>"
      ],
      "text/plain": [
       "           0         1\n",
       "0  -1.749593 -0.156003\n",
       "1   0.368625  3.140500\n",
       "2  -1.799280  0.049168\n",
       "3  -0.177061 -3.735070\n",
       "4   3.160910  3.202912\n",
       "5  -3.264976  1.895905\n",
       "6  -0.914822 -3.725331\n",
       "7   2.097375  0.938554\n",
       "8   0.006415  3.213170\n",
       "9  -1.898791  4.079779\n",
       "10  0.188479  3.181617\n",
       "11 -0.768414  4.433908\n",
       "12 -0.914822  3.225331\n",
       "13 -0.863661 -1.297517\n",
       "14 -3.653391  1.268593\n",
       "15 -2.897597  3.442954\n",
       "16  0.456047 -1.562287\n",
       "17  1.713734  1.684177\n",
       "18 -1.278823 -3.662248\n",
       "19  2.419240  3.794375\n",
       "20  1.058143 -1.373660\n",
       "21  0.140267  2.416492\n",
       "22  1.329386  2.043960\n",
       "23  4.001408  2.058819\n",
       "24 -0.677240  2.229902\n",
       "25 -1.475833 -0.724471\n",
       "26 -0.533342  4.468282\n",
       "27  3.480901 -2.851899\n",
       "28  2.005823  4.028235\n",
       "29  4.276068  1.401870\n",
       "30 -4.373576 -1.059166\n",
       "31 -4.054360 -1.952477\n",
       "32  2.878739  0.663302\n",
       "33  4.104486 -1.844774\n",
       "34  2.031611  1.139150\n",
       "35  2.031611 -0.305817"
      ]
     },
     "execution_count": 64,
     "metadata": {},
     "output_type": "execute_result"
    }
   ],
   "source": [
    "sc_x_test = df_test[['0','1']]\n",
    "sc_x_test"
   ]
  },
  {
   "cell_type": "code",
   "execution_count": 65,
   "metadata": {
    "colab": {
     "base_uri": "https://localhost:8080/"
    },
    "id": "slcPbzgZzhIQ",
    "outputId": "82cb1517-cd64-4eb2-82dc-f752d434483c"
   },
   "outputs": [
    {
     "data": {
      "text/plain": [
       "array([1, 2, 1, 2, 0, 2, 2, 1, 2, 0, 2, 0, 2, 1, 2, 0, 1, 1, 2, 0, 1, 1,\n",
       "       1, 0, 1, 1, 0, 0, 0, 0, 2, 2, 2, 0, 1, 1], dtype=int32)"
      ]
     },
     "execution_count": 65,
     "metadata": {},
     "output_type": "execute_result"
    }
   ],
   "source": [
    "classifier_SC = KNeighborsClassifier(n_neighbors=1)\n",
    "classifier_SC.fit(sc_df_x_train, sc_df_y_train)\n",
    "y_pred = classifier_SC.predict(sc_x_test)\n",
    "y_pred"
   ]
  },
  {
   "cell_type": "code",
   "execution_count": 66,
   "metadata": {
    "colab": {
     "base_uri": "https://localhost:8080/",
     "height": 283
    },
    "id": "VktNftXLD2G2",
    "outputId": "a148afbf-2b45-4c57-e51b-2c4441ae0ae3"
   },
   "outputs": [
    {
     "data": {
      "text/plain": [
       "<matplotlib.collections.PathCollection at 0x7f9760960190>"
      ]
     },
     "execution_count": 66,
     "metadata": {},
     "output_type": "execute_result"
    },
    {
     "data": {
      "image/png": "[encoded data removed]",
      "text/plain": [
       "<Figure size 432x288 with 1 Axes>"
      ]
     },
     "metadata": {
      "needs_background": "light"
     },
     "output_type": "display_data"
    }
   ],
   "source": [
    "data_with_clusters = x_test.copy()\n",
    "data_with_clusters['Clusters'] =  y_pred\n",
    "plt.scatter(data_with_clusters['0'],data_with_clusters['1'],c=data_with_clusters['Clusters'])"
   ]
  },
  {
   "cell_type": "markdown",
   "metadata": {
    "id": "qplidQCZWu1z"
   },
   "source": [
    "# Task 7: Summary"
   ]
  },
  {
   "cell_type": "markdown",
   "metadata": {
    "id": "MIEd8la3aBAu"
   },
   "source": [
    "\n",
    "To summarize, we have used the training set which has no labels. The data is unlabeled which leaves us with the resort of labeling the data points using unsupervised learning techniques viz. Clustering algorithms like K-means and Spectral Clustering. K-means clusters the data points in arcs whereas Spectral clustering clusters the data in Concentric Circles. We have in Task 1 used the labels generated from K-means clustering and then using the labeled data performed classification using Logistic Regression and KNN.\n",
    "\n",
    "In task 2, I have feature engineered the data by erforming PCA and LDA and generated new training dataset. Further in task 3, I have performed Spectral Clustering and using the labeled data performed Classification using Logistic Regression, Perceptron, LDA , KNN and compared the accuracy of these models.\n",
    "\n",
    "Hence, we can conclude that Spectral Clustering gives us better accuracy than K-means with respect to the output we are aiming for. Spectral clustering aids in the resolution of two fundamental clustering issues: the form of the cluster and locating the cluster centroid. The K-means method presupposes that clusters are spherical or circular, and that they are within a k-radius of the cluster center. In K means, determining the cluster centroid takes a lot of iterations. Clusters in spectrum do not have a definite shape or pattern. Points that are far apart but connected belong to the same cluster, whereas points that are closer together but not connected may belong to distinct clusters. This suggests that the algorithm might work with data of all forms and sizes."
   ]
  },
  {
   "cell_type": "code",
   "execution_count": null,
   "metadata": {},
   "outputs": [],
   "source": []
  }
 ],
 "metadata": {
  "colab": {
   "collapsed_sections": [],
   "name": "Namit_ Project1.ipynb",
   "provenance": []
  },
  "kernelspec": {
   "display_name": "Python 3",
   "language": "python",
   "name": "python3"
  },
  "language_info": {
   "codemirror_mode": {
    "name": "ipython",
    "version": 3
   },
   "file_extension": ".py",
   "mimetype": "text/x-python",
   "name": "python",
   "nbconvert_exporter": "python",
   "pygments_lexer": "ipython3",
   "version": "3.8.8"
  }
 },
 "nbformat": 4,
 "nbformat_minor": 1
}
